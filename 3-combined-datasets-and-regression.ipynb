{
 "cells": [
  {
   "cell_type": "code",
   "execution_count": 1,
   "id": "65912ba0",
   "metadata": {},
   "outputs": [],
   "source": [
    "import pandas as pd\n",
    "import matplotlib.pyplot as plt\n",
    "import numpy as np\n",
    "%matplotlib inline"
   ]
  },
  {
   "cell_type": "markdown",
   "id": "3aaf9e9d",
   "metadata": {},
   "source": [
    "#### Investigating the Wrong Dataset\n",
    "\n",
    "So, full disclosure, I end up going through a whole bunch of of my regression analysis (including the stuff I did in Excel) using the wrong columns of data at first.  I realized this about halfway through, but decided to push forward with the incorrect dataset regardless, both out of curiosity and to get the practice.  Feel free to skip to part 4 if the primary concern is my final results.  When I load up total_payments, total_breakfast and total_lunch here, I am looking at the overall (paid as well as free/reduced) participation with regards to the total cash payments (excluding the commodity costs).  The dataset is small enough, and the values are fairly similar because they are all highly correlated, so the results are actually pretty similar to the ones found in part 4."
   ]
  },
  {
   "cell_type": "code",
   "execution_count": 2,
   "id": "c5b987f0",
   "metadata": {},
   "outputs": [],
   "source": [
    "costs = pd.read_csv('datasets/costs_processed.csv', usecols=('year', 'total_payments') )\n",
    "breakfast = pd.read_csv('datasets/breakfast_processed.csv', usecols=('year', 'total_breakfast'))\n",
    "lunch = pd.read_csv('datasets/lunch_processed.csv', usecols=('year', 'total_lunch'))"
   ]
  },
  {
   "cell_type": "code",
   "execution_count": 3,
   "id": "60720b97",
   "metadata": {},
   "outputs": [
    {
     "data": {
      "text/html": [
       "<div>\n",
       "<style scoped>\n",
       "    .dataframe tbody tr th:only-of-type {\n",
       "        vertical-align: middle;\n",
       "    }\n",
       "\n",
       "    .dataframe tbody tr th {\n",
       "        vertical-align: top;\n",
       "    }\n",
       "\n",
       "    .dataframe thead th {\n",
       "        text-align: right;\n",
       "    }\n",
       "</style>\n",
       "<table border=\"1\" class=\"dataframe\">\n",
       "  <thead>\n",
       "    <tr style=\"text-align: right;\">\n",
       "      <th></th>\n",
       "      <th>year</th>\n",
       "      <th>total_payments</th>\n",
       "    </tr>\n",
       "  </thead>\n",
       "  <tbody>\n",
       "    <tr>\n",
       "      <th>0</th>\n",
       "      <td>1969</td>\n",
       "      <td>310.5</td>\n",
       "    </tr>\n",
       "    <tr>\n",
       "      <th>1</th>\n",
       "      <td>1970</td>\n",
       "      <td>412.2</td>\n",
       "    </tr>\n",
       "    <tr>\n",
       "      <th>2</th>\n",
       "      <td>1971</td>\n",
       "      <td>642.8</td>\n",
       "    </tr>\n",
       "    <tr>\n",
       "      <th>3</th>\n",
       "      <td>1972</td>\n",
       "      <td>853.9</td>\n",
       "    </tr>\n",
       "    <tr>\n",
       "      <th>4</th>\n",
       "      <td>1973</td>\n",
       "      <td>1007.5</td>\n",
       "    </tr>\n",
       "  </tbody>\n",
       "</table>\n",
       "</div>"
      ],
      "text/plain": [
       "   year  total_payments\n",
       "0  1969           310.5\n",
       "1  1970           412.2\n",
       "2  1971           642.8\n",
       "3  1972           853.9\n",
       "4  1973          1007.5"
      ]
     },
     "execution_count": 3,
     "metadata": {},
     "output_type": "execute_result"
    }
   ],
   "source": [
    "costs.head()"
   ]
  },
  {
   "cell_type": "code",
   "execution_count": 4,
   "id": "42c4db53",
   "metadata": {},
   "outputs": [
    {
     "data": {
      "text/html": [
       "<div>\n",
       "<style scoped>\n",
       "    .dataframe tbody tr th:only-of-type {\n",
       "        vertical-align: middle;\n",
       "    }\n",
       "\n",
       "    .dataframe tbody tr th {\n",
       "        vertical-align: top;\n",
       "    }\n",
       "\n",
       "    .dataframe thead th {\n",
       "        text-align: right;\n",
       "    }\n",
       "</style>\n",
       "<table border=\"1\" class=\"dataframe\">\n",
       "  <thead>\n",
       "    <tr style=\"text-align: right;\">\n",
       "      <th></th>\n",
       "      <th>year</th>\n",
       "      <th>total_breakfast</th>\n",
       "    </tr>\n",
       "  </thead>\n",
       "  <tbody>\n",
       "    <tr>\n",
       "      <th>0</th>\n",
       "      <td>1969</td>\n",
       "      <td>0.22</td>\n",
       "    </tr>\n",
       "    <tr>\n",
       "      <th>1</th>\n",
       "      <td>1970</td>\n",
       "      <td>0.45</td>\n",
       "    </tr>\n",
       "    <tr>\n",
       "      <th>2</th>\n",
       "      <td>1971</td>\n",
       "      <td>0.80</td>\n",
       "    </tr>\n",
       "    <tr>\n",
       "      <th>3</th>\n",
       "      <td>1972</td>\n",
       "      <td>1.04</td>\n",
       "    </tr>\n",
       "    <tr>\n",
       "      <th>4</th>\n",
       "      <td>1973</td>\n",
       "      <td>1.19</td>\n",
       "    </tr>\n",
       "  </tbody>\n",
       "</table>\n",
       "</div>"
      ],
      "text/plain": [
       "   year  total_breakfast\n",
       "0  1969             0.22\n",
       "1  1970             0.45\n",
       "2  1971             0.80\n",
       "3  1972             1.04\n",
       "4  1973             1.19"
      ]
     },
     "execution_count": 4,
     "metadata": {},
     "output_type": "execute_result"
    }
   ],
   "source": [
    "breakfast.head()"
   ]
  },
  {
   "cell_type": "code",
   "execution_count": 5,
   "id": "7cad31e5",
   "metadata": {},
   "outputs": [
    {
     "data": {
      "text/html": [
       "<div>\n",
       "<style scoped>\n",
       "    .dataframe tbody tr th:only-of-type {\n",
       "        vertical-align: middle;\n",
       "    }\n",
       "\n",
       "    .dataframe tbody tr th {\n",
       "        vertical-align: top;\n",
       "    }\n",
       "\n",
       "    .dataframe thead th {\n",
       "        text-align: right;\n",
       "    }\n",
       "</style>\n",
       "<table border=\"1\" class=\"dataframe\">\n",
       "  <thead>\n",
       "    <tr style=\"text-align: right;\">\n",
       "      <th></th>\n",
       "      <th>year</th>\n",
       "      <th>total_lunch</th>\n",
       "    </tr>\n",
       "  </thead>\n",
       "  <tbody>\n",
       "    <tr>\n",
       "      <th>0</th>\n",
       "      <td>1969</td>\n",
       "      <td>19.4</td>\n",
       "    </tr>\n",
       "    <tr>\n",
       "      <th>1</th>\n",
       "      <td>1970</td>\n",
       "      <td>22.4</td>\n",
       "    </tr>\n",
       "    <tr>\n",
       "      <th>2</th>\n",
       "      <td>1971</td>\n",
       "      <td>24.1</td>\n",
       "    </tr>\n",
       "    <tr>\n",
       "      <th>3</th>\n",
       "      <td>1972</td>\n",
       "      <td>24.4</td>\n",
       "    </tr>\n",
       "    <tr>\n",
       "      <th>4</th>\n",
       "      <td>1973</td>\n",
       "      <td>24.7</td>\n",
       "    </tr>\n",
       "  </tbody>\n",
       "</table>\n",
       "</div>"
      ],
      "text/plain": [
       "   year  total_lunch\n",
       "0  1969         19.4\n",
       "1  1970         22.4\n",
       "2  1971         24.1\n",
       "3  1972         24.4\n",
       "4  1973         24.7"
      ]
     },
     "execution_count": 5,
     "metadata": {},
     "output_type": "execute_result"
    }
   ],
   "source": [
    "lunch.head()"
   ]
  },
  {
   "cell_type": "markdown",
   "id": "fa669ad5",
   "metadata": {},
   "source": [
    "I take our three columns and combine them into a single dataframe to make keeping track of our data easier.  Then I create a new column with the value of total breakfast & lunch participation per year."
   ]
  },
  {
   "cell_type": "code",
   "execution_count": 6,
   "id": "fc78aa93",
   "metadata": {},
   "outputs": [
    {
     "data": {
      "text/html": [
       "<div>\n",
       "<style scoped>\n",
       "    .dataframe tbody tr th:only-of-type {\n",
       "        vertical-align: middle;\n",
       "    }\n",
       "\n",
       "    .dataframe tbody tr th {\n",
       "        vertical-align: top;\n",
       "    }\n",
       "\n",
       "    .dataframe thead th {\n",
       "        text-align: right;\n",
       "    }\n",
       "</style>\n",
       "<table border=\"1\" class=\"dataframe\">\n",
       "  <thead>\n",
       "    <tr style=\"text-align: right;\">\n",
       "      <th></th>\n",
       "      <th>total_payments</th>\n",
       "      <th>total_breakfast</th>\n",
       "      <th>total_lunch</th>\n",
       "    </tr>\n",
       "    <tr>\n",
       "      <th>year</th>\n",
       "      <th></th>\n",
       "      <th></th>\n",
       "      <th></th>\n",
       "    </tr>\n",
       "  </thead>\n",
       "  <tbody>\n",
       "    <tr>\n",
       "      <th>1969</th>\n",
       "      <td>310.5</td>\n",
       "      <td>0.22</td>\n",
       "      <td>19.4</td>\n",
       "    </tr>\n",
       "    <tr>\n",
       "      <th>1970</th>\n",
       "      <td>412.2</td>\n",
       "      <td>0.45</td>\n",
       "      <td>22.4</td>\n",
       "    </tr>\n",
       "    <tr>\n",
       "      <th>1971</th>\n",
       "      <td>642.8</td>\n",
       "      <td>0.80</td>\n",
       "      <td>24.1</td>\n",
       "    </tr>\n",
       "    <tr>\n",
       "      <th>1972</th>\n",
       "      <td>853.9</td>\n",
       "      <td>1.04</td>\n",
       "      <td>24.4</td>\n",
       "    </tr>\n",
       "    <tr>\n",
       "      <th>1973</th>\n",
       "      <td>1007.5</td>\n",
       "      <td>1.19</td>\n",
       "      <td>24.7</td>\n",
       "    </tr>\n",
       "  </tbody>\n",
       "</table>\n",
       "</div>"
      ],
      "text/plain": [
       "      total_payments  total_breakfast  total_lunch\n",
       "year                                              \n",
       "1969           310.5             0.22         19.4\n",
       "1970           412.2             0.45         22.4\n",
       "1971           642.8             0.80         24.1\n",
       "1972           853.9             1.04         24.4\n",
       "1973          1007.5             1.19         24.7"
      ]
     },
     "execution_count": 6,
     "metadata": {},
     "output_type": "execute_result"
    }
   ],
   "source": [
    "combined_df = costs.set_index('year').join(breakfast.set_index('year')).join(lunch.set_index('year'))\n",
    "combined_df.head()"
   ]
  },
  {
   "cell_type": "code",
   "execution_count": 7,
   "id": "fad05d16",
   "metadata": {},
   "outputs": [],
   "source": [
    "combined_df['total_participation'] = (combined_df['total_breakfast'] + combined_df['total_lunch'])"
   ]
  },
  {
   "cell_type": "code",
   "execution_count": 8,
   "id": "6f007326",
   "metadata": {},
   "outputs": [
    {
     "data": {
      "text/html": [
       "<div>\n",
       "<style scoped>\n",
       "    .dataframe tbody tr th:only-of-type {\n",
       "        vertical-align: middle;\n",
       "    }\n",
       "\n",
       "    .dataframe tbody tr th {\n",
       "        vertical-align: top;\n",
       "    }\n",
       "\n",
       "    .dataframe thead th {\n",
       "        text-align: right;\n",
       "    }\n",
       "</style>\n",
       "<table border=\"1\" class=\"dataframe\">\n",
       "  <thead>\n",
       "    <tr style=\"text-align: right;\">\n",
       "      <th></th>\n",
       "      <th>total_payments</th>\n",
       "      <th>total_breakfast</th>\n",
       "      <th>total_lunch</th>\n",
       "      <th>total_participation</th>\n",
       "    </tr>\n",
       "    <tr>\n",
       "      <th>year</th>\n",
       "      <th></th>\n",
       "      <th></th>\n",
       "      <th></th>\n",
       "      <th></th>\n",
       "    </tr>\n",
       "  </thead>\n",
       "  <tbody>\n",
       "    <tr>\n",
       "      <th>1969</th>\n",
       "      <td>310.5</td>\n",
       "      <td>0.22</td>\n",
       "      <td>19.4</td>\n",
       "      <td>19.62</td>\n",
       "    </tr>\n",
       "    <tr>\n",
       "      <th>1970</th>\n",
       "      <td>412.2</td>\n",
       "      <td>0.45</td>\n",
       "      <td>22.4</td>\n",
       "      <td>22.85</td>\n",
       "    </tr>\n",
       "    <tr>\n",
       "      <th>1971</th>\n",
       "      <td>642.8</td>\n",
       "      <td>0.80</td>\n",
       "      <td>24.1</td>\n",
       "      <td>24.90</td>\n",
       "    </tr>\n",
       "    <tr>\n",
       "      <th>1972</th>\n",
       "      <td>853.9</td>\n",
       "      <td>1.04</td>\n",
       "      <td>24.4</td>\n",
       "      <td>25.44</td>\n",
       "    </tr>\n",
       "    <tr>\n",
       "      <th>1973</th>\n",
       "      <td>1007.5</td>\n",
       "      <td>1.19</td>\n",
       "      <td>24.7</td>\n",
       "      <td>25.89</td>\n",
       "    </tr>\n",
       "  </tbody>\n",
       "</table>\n",
       "</div>"
      ],
      "text/plain": [
       "      total_payments  total_breakfast  total_lunch  total_participation\n",
       "year                                                                   \n",
       "1969           310.5             0.22         19.4                19.62\n",
       "1970           412.2             0.45         22.4                22.85\n",
       "1971           642.8             0.80         24.1                24.90\n",
       "1972           853.9             1.04         24.4                25.44\n",
       "1973          1007.5             1.19         24.7                25.89"
      ]
     },
     "execution_count": 8,
     "metadata": {},
     "output_type": "execute_result"
    }
   ],
   "source": [
    "combined_df.head()"
   ]
  },
  {
   "cell_type": "markdown",
   "id": "deef977c",
   "metadata": {},
   "source": [
    "Thanks to our earlier investigation in Excel, I know that what I want to compare is the %change (first difference/returns) of participation per year to the %change in spending, so I calculate those values below, and add them as separate columns to the dataframe."
   ]
  },
  {
   "cell_type": "code",
   "execution_count": 9,
   "id": "3041089f",
   "metadata": {},
   "outputs": [],
   "source": [
    "participation_change = np.array(combined_df['total_participation'][1:])/np.array(combined_df['total_participation'][:-1])-1"
   ]
  },
  {
   "cell_type": "code",
   "execution_count": 10,
   "id": "5dfc1201",
   "metadata": {},
   "outputs": [],
   "source": [
    "combined_df['participation_change'] = np.append(participation_change,np.nan)"
   ]
  },
  {
   "cell_type": "code",
   "execution_count": 11,
   "id": "d269facb",
   "metadata": {},
   "outputs": [],
   "source": [
    "payments_change = np.array(combined_df['total_payments'][1:])/np.array(combined_df['total_payments'][:-1])-1"
   ]
  },
  {
   "cell_type": "code",
   "execution_count": 12,
   "id": "d5a9fd12",
   "metadata": {},
   "outputs": [],
   "source": [
    "combined_df['payments_change'] = np.append(payments_change,np.nan)"
   ]
  },
  {
   "cell_type": "code",
   "execution_count": 13,
   "id": "622e43ec",
   "metadata": {},
   "outputs": [
    {
     "data": {
      "text/html": [
       "<div>\n",
       "<style scoped>\n",
       "    .dataframe tbody tr th:only-of-type {\n",
       "        vertical-align: middle;\n",
       "    }\n",
       "\n",
       "    .dataframe tbody tr th {\n",
       "        vertical-align: top;\n",
       "    }\n",
       "\n",
       "    .dataframe thead th {\n",
       "        text-align: right;\n",
       "    }\n",
       "</style>\n",
       "<table border=\"1\" class=\"dataframe\">\n",
       "  <thead>\n",
       "    <tr style=\"text-align: right;\">\n",
       "      <th></th>\n",
       "      <th>total_payments</th>\n",
       "      <th>total_breakfast</th>\n",
       "      <th>total_lunch</th>\n",
       "      <th>total_participation</th>\n",
       "      <th>participation_change</th>\n",
       "      <th>payments_change</th>\n",
       "    </tr>\n",
       "    <tr>\n",
       "      <th>year</th>\n",
       "      <th></th>\n",
       "      <th></th>\n",
       "      <th></th>\n",
       "      <th></th>\n",
       "      <th></th>\n",
       "      <th></th>\n",
       "    </tr>\n",
       "  </thead>\n",
       "  <tbody>\n",
       "    <tr>\n",
       "      <th>1969</th>\n",
       "      <td>310.5</td>\n",
       "      <td>0.22</td>\n",
       "      <td>19.4</td>\n",
       "      <td>19.62</td>\n",
       "      <td>0.164628</td>\n",
       "      <td>0.327536</td>\n",
       "    </tr>\n",
       "    <tr>\n",
       "      <th>1970</th>\n",
       "      <td>412.2</td>\n",
       "      <td>0.45</td>\n",
       "      <td>22.4</td>\n",
       "      <td>22.85</td>\n",
       "      <td>0.089716</td>\n",
       "      <td>0.559437</td>\n",
       "    </tr>\n",
       "    <tr>\n",
       "      <th>1971</th>\n",
       "      <td>642.8</td>\n",
       "      <td>0.80</td>\n",
       "      <td>24.1</td>\n",
       "      <td>24.90</td>\n",
       "      <td>0.021687</td>\n",
       "      <td>0.328407</td>\n",
       "    </tr>\n",
       "    <tr>\n",
       "      <th>1972</th>\n",
       "      <td>853.9</td>\n",
       "      <td>1.04</td>\n",
       "      <td>24.4</td>\n",
       "      <td>25.44</td>\n",
       "      <td>0.017689</td>\n",
       "      <td>0.179881</td>\n",
       "    </tr>\n",
       "    <tr>\n",
       "      <th>1973</th>\n",
       "      <td>1007.5</td>\n",
       "      <td>1.19</td>\n",
       "      <td>24.7</td>\n",
       "      <td>25.89</td>\n",
       "      <td>0.003090</td>\n",
       "      <td>0.184814</td>\n",
       "    </tr>\n",
       "  </tbody>\n",
       "</table>\n",
       "</div>"
      ],
      "text/plain": [
       "      total_payments  total_breakfast  total_lunch  total_participation  \\\n",
       "year                                                                      \n",
       "1969           310.5             0.22         19.4                19.62   \n",
       "1970           412.2             0.45         22.4                22.85   \n",
       "1971           642.8             0.80         24.1                24.90   \n",
       "1972           853.9             1.04         24.4                25.44   \n",
       "1973          1007.5             1.19         24.7                25.89   \n",
       "\n",
       "      participation_change  payments_change  \n",
       "year                                         \n",
       "1969              0.164628         0.327536  \n",
       "1970              0.089716         0.559437  \n",
       "1971              0.021687         0.328407  \n",
       "1972              0.017689         0.179881  \n",
       "1973              0.003090         0.184814  "
      ]
     },
     "execution_count": 13,
     "metadata": {},
     "output_type": "execute_result"
    }
   ],
   "source": [
    "combined_df.head()"
   ]
  },
  {
   "cell_type": "markdown",
   "id": "d5f70b4a",
   "metadata": {},
   "source": [
    "Then we store our XData and yData in variables to be used to conduct the regression, using the process demonstrated in the Pluralsight video for our first look at the linear regression."
   ]
  },
  {
   "cell_type": "code",
   "execution_count": 40,
   "id": "03a09ce2",
   "metadata": {},
   "outputs": [],
   "source": [
    "xData = combined_df['participation_change'][0:-1].values.reshape(-1,1)"
   ]
  },
  {
   "cell_type": "code",
   "execution_count": 41,
   "id": "93c8d934",
   "metadata": {},
   "outputs": [],
   "source": [
    "yData = combined_df['payments_change'][0:-1].values"
   ]
  },
  {
   "cell_type": "code",
   "execution_count": 42,
   "id": "1f5a746e",
   "metadata": {},
   "outputs": [],
   "source": [
    "from sklearn import datasets, linear_model"
   ]
  },
  {
   "cell_type": "code",
   "execution_count": 43,
   "id": "fdb2fb83",
   "metadata": {},
   "outputs": [],
   "source": [
    "participModel = linear_model.LinearRegression()"
   ]
  },
  {
   "cell_type": "code",
   "execution_count": 44,
   "id": "5c3f82f4",
   "metadata": {},
   "outputs": [
    {
     "data": {
      "text/plain": [
       "LinearRegression()"
      ]
     },
     "execution_count": 44,
     "metadata": {},
     "output_type": "execute_result"
    }
   ],
   "source": [
    "participModel.fit(xData, yData)"
   ]
  },
  {
   "cell_type": "code",
   "execution_count": 45,
   "id": "66edcde2",
   "metadata": {},
   "outputs": [
    {
     "data": {
      "text/plain": [
       "0.4247578996167557"
      ]
     },
     "execution_count": 45,
     "metadata": {},
     "output_type": "execute_result"
    }
   ],
   "source": [
    "participModel.score(xData, yData)"
   ]
  },
  {
   "cell_type": "code",
   "execution_count": 46,
   "id": "341159a4",
   "metadata": {},
   "outputs": [
    {
     "data": {
      "text/plain": [
       "array([2.01515222])"
      ]
     },
     "execution_count": 46,
     "metadata": {},
     "output_type": "execute_result"
    }
   ],
   "source": [
    "participModel.coef_"
   ]
  },
  {
   "cell_type": "code",
   "execution_count": 59,
   "id": "f233a095",
   "metadata": {},
   "outputs": [
    {
     "data": {
      "text/plain": [
       "[<matplotlib.lines.Line2D at 0x29dffd205c8>]"
      ]
     },
     "execution_count": 59,
     "metadata": {},
     "output_type": "execute_result"
    },
    {
     "data": {
      "image/png": "[encoded data removed]",
      "text/plain": [
       "<Figure size 432x288 with 1 Axes>"
      ]
     },
     "metadata": {
      "needs_background": "light"
     },
     "output_type": "display_data"
    }
   ],
   "source": [
    "plt.scatter(xData, yData, color='black')\n",
    "plt.plot(xData, participModel.predict(xData), color='blue', linewidth=3)"
   ]
  },
  {
   "cell_type": "markdown",
   "id": "9e01e874",
   "metadata": {},
   "source": [
    "Below, we use `statsmodels.formula.api` to get a more thorough regression analysis."
   ]
  },
  {
   "cell_type": "code",
   "execution_count": 22,
   "id": "024413d9",
   "metadata": {},
   "outputs": [],
   "source": [
    "import statsmodels.formula.api as smf"
   ]
  },
  {
   "cell_type": "code",
   "execution_count": 23,
   "id": "517e1ac5",
   "metadata": {},
   "outputs": [],
   "source": [
    "model = smf.ols(formula='payments_change ~ participation_change', data=combined_df)"
   ]
  },
  {
   "cell_type": "code",
   "execution_count": 24,
   "id": "6a0e261c",
   "metadata": {},
   "outputs": [],
   "source": [
    "results = model.fit()"
   ]
  },
  {
   "cell_type": "code",
   "execution_count": 25,
   "id": "12bc22c4",
   "metadata": {},
   "outputs": [
    {
     "data": {
      "text/html": [
       "<table class=\"simpletable\">\n",
       "<caption>OLS Regression Results</caption>\n",
       "<tr>\n",
       "  <th>Dep. Variable:</th>     <td>payments_change</td> <th>  R-squared:         </th> <td>   0.425</td>\n",
       "</tr>\n",
       "<tr>\n",
       "  <th>Model:</th>                   <td>OLS</td>       <th>  Adj. R-squared:    </th> <td>   0.412</td>\n",
       "</tr>\n",
       "<tr>\n",
       "  <th>Method:</th>             <td>Least Squares</td>  <th>  F-statistic:       </th> <td>   32.49</td>\n",
       "</tr>\n",
       "<tr>\n",
       "  <th>Date:</th>             <td>Thu, 09 Jun 2022</td> <th>  Prob (F-statistic):</th> <td>9.30e-07</td>\n",
       "</tr>\n",
       "<tr>\n",
       "  <th>Time:</th>                 <td>15:13:03</td>     <th>  Log-Likelihood:    </th> <td>  52.296</td>\n",
       "</tr>\n",
       "<tr>\n",
       "  <th>No. Observations:</th>      <td>    46</td>      <th>  AIC:               </th> <td>  -100.6</td>\n",
       "</tr>\n",
       "<tr>\n",
       "  <th>Df Residuals:</th>          <td>    44</td>      <th>  BIC:               </th> <td>  -96.94</td>\n",
       "</tr>\n",
       "<tr>\n",
       "  <th>Df Model:</th>              <td>     1</td>      <th>                     </th>     <td> </td>   \n",
       "</tr>\n",
       "<tr>\n",
       "  <th>Covariance Type:</th>      <td>nonrobust</td>    <th>                     </th>     <td> </td>   \n",
       "</tr>\n",
       "</table>\n",
       "<table class=\"simpletable\">\n",
       "<tr>\n",
       "            <td></td>              <th>coef</th>     <th>std err</th>      <th>t</th>      <th>P>|t|</th>  <th>[0.025</th>    <th>0.975]</th>  \n",
       "</tr>\n",
       "<tr>\n",
       "  <th>Intercept</th>            <td>    0.0557</td> <td>    0.013</td> <td>    4.155</td> <td> 0.000</td> <td>    0.029</td> <td>    0.083</td>\n",
       "</tr>\n",
       "<tr>\n",
       "  <th>participation_change</th> <td>    2.0152</td> <td>    0.354</td> <td>    5.700</td> <td> 0.000</td> <td>    1.303</td> <td>    2.728</td>\n",
       "</tr>\n",
       "</table>\n",
       "<table class=\"simpletable\">\n",
       "<tr>\n",
       "  <th>Omnibus:</th>       <td>38.690</td> <th>  Durbin-Watson:     </th> <td>   0.916</td>\n",
       "</tr>\n",
       "<tr>\n",
       "  <th>Prob(Omnibus):</th> <td> 0.000</td> <th>  Jarque-Bera (JB):  </th> <td> 104.646</td>\n",
       "</tr>\n",
       "<tr>\n",
       "  <th>Skew:</th>          <td> 2.325</td> <th>  Prob(JB):          </th> <td>1.89e-23</td>\n",
       "</tr>\n",
       "<tr>\n",
       "  <th>Kurtosis:</th>      <td> 8.742</td> <th>  Cond. No.          </th> <td>    30.2</td>\n",
       "</tr>\n",
       "</table><br/><br/>Notes:<br/>[1] Standard Errors assume that the covariance matrix of the errors is correctly specified."
      ],
      "text/plain": [
       "<class 'statsmodels.iolib.summary.Summary'>\n",
       "\"\"\"\n",
       "                            OLS Regression Results                            \n",
       "==============================================================================\n",
       "Dep. Variable:        payments_change   R-squared:                       0.425\n",
       "Model:                            OLS   Adj. R-squared:                  0.412\n",
       "Method:                 Least Squares   F-statistic:                     32.49\n",
       "Date:                Thu, 09 Jun 2022   Prob (F-statistic):           9.30e-07\n",
       "Time:                        15:13:03   Log-Likelihood:                 52.296\n",
       "No. Observations:                  46   AIC:                            -100.6\n",
       "Df Residuals:                      44   BIC:                            -96.94\n",
       "Df Model:                           1                                         \n",
       "Covariance Type:            nonrobust                                         \n",
       "========================================================================================\n",
       "                           coef    std err          t      P>|t|      [0.025      0.975]\n",
       "----------------------------------------------------------------------------------------\n",
       "Intercept                0.0557      0.013      4.155      0.000       0.029       0.083\n",
       "participation_change     2.0152      0.354      5.700      0.000       1.303       2.728\n",
       "==============================================================================\n",
       "Omnibus:                       38.690   Durbin-Watson:                   0.916\n",
       "Prob(Omnibus):                  0.000   Jarque-Bera (JB):              104.646\n",
       "Skew:                           2.325   Prob(JB):                     1.89e-23\n",
       "Kurtosis:                       8.742   Cond. No.                         30.2\n",
       "==============================================================================\n",
       "\n",
       "Notes:\n",
       "[1] Standard Errors assume that the covariance matrix of the errors is correctly specified.\n",
       "\"\"\""
      ]
     },
     "execution_count": 25,
     "metadata": {},
     "output_type": "execute_result"
    }
   ],
   "source": [
    "results.summary()"
   ]
  },
  {
   "cell_type": "markdown",
   "id": "45749bfb",
   "metadata": {},
   "source": [
    "Our R-squared value seems to be acceptable, though the Durbin-Watson value is just shy of 1.  It's around now that I begin to realize that I should have been using different columns if I wanted to actually test my hypothesis, but I do a little more work on this model for practice."
   ]
  },
  {
   "cell_type": "code",
   "execution_count": 26,
   "id": "86d8de9e",
   "metadata": {},
   "outputs": [],
   "source": [
    "import seaborn as sns"
   ]
  },
  {
   "cell_type": "code",
   "execution_count": 27,
   "id": "70cda5a6",
   "metadata": {},
   "outputs": [
    {
     "data": {
      "text/plain": [
       "<AxesSubplot:xlabel='participation_change', ylabel='payments_change'>"
      ]
     },
     "execution_count": 27,
     "metadata": {},
     "output_type": "execute_result"
    },
    {
     "data": {
      "image/png": "[encoded data removed]",
      "text/plain": [
       "<Figure size 432x288 with 1 Axes>"
      ]
     },
     "metadata": {
      "needs_background": "light"
     },
     "output_type": "display_data"
    }
   ],
   "source": [
    "sns.regplot(x=combined_df.participation_change, y=combined_df.payments_change)"
   ]
  },
  {
   "cell_type": "markdown",
   "id": "11e05c18",
   "metadata": {},
   "source": [
    "Seaborn's Regression Plot demonstrates that our confidence bands are most specific to the range of a 5% increase or decrease, and get much less accurate as we move further from our tight cluster of datapoints.  We are working with a fairly small dataset, and nearly all of our datapoints are between -5% and 5%, so this makes a lot of sense."
   ]
  },
  {
   "cell_type": "markdown",
   "id": "cd39ae77",
   "metadata": {},
   "source": [
    "#### Making some predictions.\n",
    "\n",
    "I load in a dummy set of values from -20% to +20%, just to get the predicted payment changes, and eyeball that the look to be exactly where our regression line would expect them to be."
   ]
  },
  {
   "cell_type": "code",
   "execution_count": 29,
   "id": "a051fd17",
   "metadata": {},
   "outputs": [],
   "source": [
    "future = np.array([-.2, -.15, -.1, -.05, 0, 0.05, .1, .15, .20])"
   ]
  },
  {
   "cell_type": "code",
   "execution_count": 30,
   "id": "c776a055",
   "metadata": {},
   "outputs": [],
   "source": [
    "df_future = pd.DataFrame({'participation_change':future})"
   ]
  },
  {
   "cell_type": "code",
   "execution_count": 49,
   "id": "e5d2e48e",
   "metadata": {},
   "outputs": [
    {
     "name": "stderr",
     "output_type": "stream",
     "text": [
      "C:\\Users\\aeric\\anaconda3\\envs\\tree_env\\lib\\site-packages\\sklearn\\base.py:444: UserWarning: X has feature names, but LinearRegression was fitted without feature names\n",
      "  f\"X has feature names, but {self.__class__.__name__} was fitted without\"\n"
     ]
    }
   ],
   "source": [
    "df_future['predicted_payment_change'] = participModel.predict(df_future.participation_change.to_frame())"
   ]
  },
  {
   "cell_type": "code",
   "execution_count": 50,
   "id": "888b5787",
   "metadata": {},
   "outputs": [
    {
     "data": {
      "text/html": [
       "<div>\n",
       "<style scoped>\n",
       "    .dataframe tbody tr th:only-of-type {\n",
       "        vertical-align: middle;\n",
       "    }\n",
       "\n",
       "    .dataframe tbody tr th {\n",
       "        vertical-align: top;\n",
       "    }\n",
       "\n",
       "    .dataframe thead th {\n",
       "        text-align: right;\n",
       "    }\n",
       "</style>\n",
       "<table border=\"1\" class=\"dataframe\">\n",
       "  <thead>\n",
       "    <tr style=\"text-align: right;\">\n",
       "      <th></th>\n",
       "      <th>participation_change</th>\n",
       "      <th>predicted_payment_change</th>\n",
       "    </tr>\n",
       "  </thead>\n",
       "  <tbody>\n",
       "    <tr>\n",
       "      <th>0</th>\n",
       "      <td>-0.20</td>\n",
       "      <td>-0.347295</td>\n",
       "    </tr>\n",
       "    <tr>\n",
       "      <th>1</th>\n",
       "      <td>-0.15</td>\n",
       "      <td>-0.246538</td>\n",
       "    </tr>\n",
       "    <tr>\n",
       "      <th>2</th>\n",
       "      <td>-0.10</td>\n",
       "      <td>-0.145780</td>\n",
       "    </tr>\n",
       "    <tr>\n",
       "      <th>3</th>\n",
       "      <td>-0.05</td>\n",
       "      <td>-0.045023</td>\n",
       "    </tr>\n",
       "    <tr>\n",
       "      <th>4</th>\n",
       "      <td>0.00</td>\n",
       "      <td>0.055735</td>\n",
       "    </tr>\n",
       "    <tr>\n",
       "      <th>5</th>\n",
       "      <td>0.05</td>\n",
       "      <td>0.156493</td>\n",
       "    </tr>\n",
       "    <tr>\n",
       "      <th>6</th>\n",
       "      <td>0.10</td>\n",
       "      <td>0.257250</td>\n",
       "    </tr>\n",
       "    <tr>\n",
       "      <th>7</th>\n",
       "      <td>0.15</td>\n",
       "      <td>0.358008</td>\n",
       "    </tr>\n",
       "    <tr>\n",
       "      <th>8</th>\n",
       "      <td>0.20</td>\n",
       "      <td>0.458765</td>\n",
       "    </tr>\n",
       "  </tbody>\n",
       "</table>\n",
       "</div>"
      ],
      "text/plain": [
       "   participation_change  predicted_payment_change\n",
       "0                 -0.20                 -0.347295\n",
       "1                 -0.15                 -0.246538\n",
       "2                 -0.10                 -0.145780\n",
       "3                 -0.05                 -0.045023\n",
       "4                  0.00                  0.055735\n",
       "5                  0.05                  0.156493\n",
       "6                  0.10                  0.257250\n",
       "7                  0.15                  0.358008\n",
       "8                  0.20                  0.458765"
      ]
     },
     "execution_count": 50,
     "metadata": {},
     "output_type": "execute_result"
    }
   ],
   "source": [
    "df_future"
   ]
  },
  {
   "cell_type": "markdown",
   "id": "98b7d536",
   "metadata": {},
   "source": [
    "Everything looks good, so I pull the actual numbers from 2016-2020 (I'll grab them in actual dataframes in the next part, when I use the right numbers), load them up and make predictions based on our regression model.  Then I calculate the actual change in payments and display them side-by-side, so we can see how closely they resemble our model."
   ]
  },
  {
   "cell_type": "code",
   "execution_count": 69,
   "id": "b11dac7e",
   "metadata": {},
   "outputs": [],
   "source": [
    "future2 = np.array([.0083, -.0067, -.0056, -.0009, -.2177])"
   ]
  },
  {
   "cell_type": "code",
   "execution_count": 70,
   "id": "6c432584",
   "metadata": {},
   "outputs": [],
   "source": [
    "df_future2 = pd.DataFrame({'participation_change':future2})"
   ]
  },
  {
   "cell_type": "code",
   "execution_count": 71,
   "id": "39acd6c9",
   "metadata": {},
   "outputs": [
    {
     "name": "stderr",
     "output_type": "stream",
     "text": [
      "C:\\Users\\aeric\\anaconda3\\envs\\tree_env\\lib\\site-packages\\sklearn\\base.py:444: UserWarning: X has feature names, but LinearRegression was fitted without feature names\n",
      "  f\"X has feature names, but {self.__class__.__name__} was fitted without\"\n"
     ]
    }
   ],
   "source": [
    "df_future2['predicted_payment_change'] = participModel.predict(df_future2.participation_change.to_frame())"
   ]
  },
  {
   "cell_type": "code",
   "execution_count": 72,
   "id": "5f517c3e",
   "metadata": {},
   "outputs": [
    {
     "data": {
      "text/html": [
       "<div>\n",
       "<style scoped>\n",
       "    .dataframe tbody tr th:only-of-type {\n",
       "        vertical-align: middle;\n",
       "    }\n",
       "\n",
       "    .dataframe tbody tr th {\n",
       "        vertical-align: top;\n",
       "    }\n",
       "\n",
       "    .dataframe thead th {\n",
       "        text-align: right;\n",
       "    }\n",
       "</style>\n",
       "<table border=\"1\" class=\"dataframe\">\n",
       "  <thead>\n",
       "    <tr style=\"text-align: right;\">\n",
       "      <th></th>\n",
       "      <th>participation_change</th>\n",
       "      <th>predicted_payment_change</th>\n",
       "    </tr>\n",
       "  </thead>\n",
       "  <tbody>\n",
       "    <tr>\n",
       "      <th>0</th>\n",
       "      <td>0.0083</td>\n",
       "      <td>0.072461</td>\n",
       "    </tr>\n",
       "    <tr>\n",
       "      <th>1</th>\n",
       "      <td>-0.0067</td>\n",
       "      <td>0.042234</td>\n",
       "    </tr>\n",
       "    <tr>\n",
       "      <th>2</th>\n",
       "      <td>-0.0056</td>\n",
       "      <td>0.044450</td>\n",
       "    </tr>\n",
       "    <tr>\n",
       "      <th>3</th>\n",
       "      <td>-0.0009</td>\n",
       "      <td>0.053921</td>\n",
       "    </tr>\n",
       "    <tr>\n",
       "      <th>4</th>\n",
       "      <td>-0.2177</td>\n",
       "      <td>-0.382964</td>\n",
       "    </tr>\n",
       "  </tbody>\n",
       "</table>\n",
       "</div>"
      ],
      "text/plain": [
       "   participation_change  predicted_payment_change\n",
       "0                0.0083                  0.072461\n",
       "1               -0.0067                  0.042234\n",
       "2               -0.0056                  0.044450\n",
       "3               -0.0009                  0.053921\n",
       "4               -0.2177                 -0.382964"
      ]
     },
     "execution_count": 72,
     "metadata": {},
     "output_type": "execute_result"
    }
   ],
   "source": [
    "df_future2"
   ]
  },
  {
   "cell_type": "code",
   "execution_count": 75,
   "id": "7246ad7b",
   "metadata": {},
   "outputs": [],
   "source": [
    "df_future2['actual_payment_change'] = ([.0564, .0019, .0287, .0258, -.2784])"
   ]
  },
  {
   "cell_type": "code",
   "execution_count": 76,
   "id": "f79493df",
   "metadata": {},
   "outputs": [
    {
     "data": {
      "text/html": [
       "<div>\n",
       "<style scoped>\n",
       "    .dataframe tbody tr th:only-of-type {\n",
       "        vertical-align: middle;\n",
       "    }\n",
       "\n",
       "    .dataframe tbody tr th {\n",
       "        vertical-align: top;\n",
       "    }\n",
       "\n",
       "    .dataframe thead th {\n",
       "        text-align: right;\n",
       "    }\n",
       "</style>\n",
       "<table border=\"1\" class=\"dataframe\">\n",
       "  <thead>\n",
       "    <tr style=\"text-align: right;\">\n",
       "      <th></th>\n",
       "      <th>participation_change</th>\n",
       "      <th>predicted_payment_change</th>\n",
       "      <th>actual_payment_change</th>\n",
       "    </tr>\n",
       "  </thead>\n",
       "  <tbody>\n",
       "    <tr>\n",
       "      <th>0</th>\n",
       "      <td>0.0083</td>\n",
       "      <td>0.072461</td>\n",
       "      <td>0.0564</td>\n",
       "    </tr>\n",
       "    <tr>\n",
       "      <th>1</th>\n",
       "      <td>-0.0067</td>\n",
       "      <td>0.042234</td>\n",
       "      <td>0.0019</td>\n",
       "    </tr>\n",
       "    <tr>\n",
       "      <th>2</th>\n",
       "      <td>-0.0056</td>\n",
       "      <td>0.044450</td>\n",
       "      <td>0.0287</td>\n",
       "    </tr>\n",
       "    <tr>\n",
       "      <th>3</th>\n",
       "      <td>-0.0009</td>\n",
       "      <td>0.053921</td>\n",
       "      <td>0.0258</td>\n",
       "    </tr>\n",
       "    <tr>\n",
       "      <th>4</th>\n",
       "      <td>-0.2177</td>\n",
       "      <td>-0.382964</td>\n",
       "      <td>-0.2784</td>\n",
       "    </tr>\n",
       "  </tbody>\n",
       "</table>\n",
       "</div>"
      ],
      "text/plain": [
       "   participation_change  predicted_payment_change  actual_payment_change\n",
       "0                0.0083                  0.072461                 0.0564\n",
       "1               -0.0067                  0.042234                 0.0019\n",
       "2               -0.0056                  0.044450                 0.0287\n",
       "3               -0.0009                  0.053921                 0.0258\n",
       "4               -0.2177                 -0.382964                -0.2784"
      ]
     },
     "execution_count": 76,
     "metadata": {},
     "output_type": "execute_result"
    }
   ],
   "source": [
    "df_future2"
   ]
  },
  {
   "cell_type": "markdown",
   "id": "e029b723",
   "metadata": {},
   "source": [
    "The results looks relatively good, so I add them to our original regression plot, and they are just about where we'd expect them to be!  Unfortunately, it doesn't mean a ton, since I goofed which values would give us more relevant results.  As a result, I stop poking around in this dataset and move on to Part 4, where I use the actual numbers that I should have in the first place."
   ]
  },
  {
   "cell_type": "code",
   "execution_count": 77,
   "id": "fcd01dc0",
   "metadata": {},
   "outputs": [
    {
     "data": {
      "text/plain": [
       "[<matplotlib.lines.Line2D at 0x29d81756688>]"
      ]
     },
     "execution_count": 77,
     "metadata": {},
     "output_type": "execute_result"
    },
    {
     "data": {
      "image/png": "[encoded data removed]",
      "text/plain": [
       "<Figure size 864x576 with 1 Axes>"
      ]
     },
     "metadata": {
      "needs_background": "light"
     },
     "output_type": "display_data"
    }
   ],
   "source": [
    "plt.figure(figsize=(12,8))\n",
    "plt.scatter(xData, yData, color='black')\n",
    "plt.scatter(df_future2.participation_change, df_future2.actual_payment_change, color='red')\n",
    "plt.plot(xData, participModel.predict(xData), color='blue', linewidth=1)"
   ]
  },
  {
   "cell_type": "code",
   "execution_count": null,
   "id": "837a09cd",
   "metadata": {},
   "outputs": [],
   "source": []
  }
 ],
 "metadata": {
  "kernelspec": {
   "display_name": "Python 3 (ipykernel)",
   "language": "python",
   "name": "python3"
  },
  "language_info": {
   "codemirror_mode": {
    "name": "ipython",
    "version": 3
   },
   "file_extension": ".py",
   "mimetype": "text/x-python",
   "name": "python",
   "nbconvert_exporter": "python",
   "pygments_lexer": "ipython3",
   "version": "3.7.13"
  }
 },
 "nbformat": 4,
 "nbformat_minor": 5
}
