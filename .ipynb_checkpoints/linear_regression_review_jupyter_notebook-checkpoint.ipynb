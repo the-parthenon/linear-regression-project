{
 "cells": [
  {
   "cell_type": "markdown",
   "id": "8f7fdd6d",
   "metadata": {},
   "source": [
    "# Linear Regression Review - Data Analytics Specialization"
   ]
  },
  {
   "cell_type": "markdown",
   "id": "bc08e838",
   "metadata": {},
   "source": [
    "##### In this review notebook, we will be breaking down linear regression step by step. This is likely a simpler example of what you've seen in your video lectures. \n",
    "\n",
    "### The purpose  of this review is to enchance basic understanding of what is happening behind the scenes when we use linear regression models.  "
   ]
  },
  {
   "cell_type": "code",
   "execution_count": 1,
   "id": "61add65e",
   "metadata": {
    "scrolled": false
   },
   "outputs": [],
   "source": [
    "# importing necessary libraries\n",
    "\n",
    "import pandas as pd\n",
    "import numpy as np\n",
    "import matplotlib.pyplot as plt\n",
    "import seaborn as sns\n",
    "from IPython.display import Image\n",
    "from scipy.stats import pearsonr\n",
    "from sklearn.linear_model import LinearRegression\n",
    "\n",
    "plt.style.use(\"seaborn\")\n",
    "sns.set()"
   ]
  },
  {
   "cell_type": "code",
   "execution_count": 2,
   "id": "b470d654",
   "metadata": {
    "scrolled": false
   },
   "outputs": [],
   "source": [
    "# creating dataframe from salary data csv\n",
    "\n",
    "df = pd.read_csv(\"salary_data.csv\")"
   ]
  },
  {
   "cell_type": "code",
   "execution_count": 3,
   "id": "9501b09f",
   "metadata": {},
   "outputs": [
    {
     "data": {
      "text/html": [
       "<div>\n",
       "<style scoped>\n",
       "    .dataframe tbody tr th:only-of-type {\n",
       "        vertical-align: middle;\n",
       "    }\n",
       "\n",
       "    .dataframe tbody tr th {\n",
       "        vertical-align: top;\n",
       "    }\n",
       "\n",
       "    .dataframe thead th {\n",
       "        text-align: right;\n",
       "    }\n",
       "</style>\n",
       "<table border=\"1\" class=\"dataframe\">\n",
       "  <thead>\n",
       "    <tr style=\"text-align: right;\">\n",
       "      <th></th>\n",
       "      <th>years_experience</th>\n",
       "      <th>salary</th>\n",
       "    </tr>\n",
       "  </thead>\n",
       "  <tbody>\n",
       "    <tr>\n",
       "      <th>0</th>\n",
       "      <td>1.1</td>\n",
       "      <td>39343</td>\n",
       "    </tr>\n",
       "    <tr>\n",
       "      <th>1</th>\n",
       "      <td>1.3</td>\n",
       "      <td>46205</td>\n",
       "    </tr>\n",
       "    <tr>\n",
       "      <th>2</th>\n",
       "      <td>1.5</td>\n",
       "      <td>37731</td>\n",
       "    </tr>\n",
       "    <tr>\n",
       "      <th>3</th>\n",
       "      <td>2.0</td>\n",
       "      <td>43525</td>\n",
       "    </tr>\n",
       "    <tr>\n",
       "      <th>4</th>\n",
       "      <td>2.2</td>\n",
       "      <td>39891</td>\n",
       "    </tr>\n",
       "    <tr>\n",
       "      <th>5</th>\n",
       "      <td>2.9</td>\n",
       "      <td>56642</td>\n",
       "    </tr>\n",
       "    <tr>\n",
       "      <th>6</th>\n",
       "      <td>3.0</td>\n",
       "      <td>60150</td>\n",
       "    </tr>\n",
       "    <tr>\n",
       "      <th>7</th>\n",
       "      <td>3.2</td>\n",
       "      <td>54445</td>\n",
       "    </tr>\n",
       "    <tr>\n",
       "      <th>8</th>\n",
       "      <td>3.2</td>\n",
       "      <td>64445</td>\n",
       "    </tr>\n",
       "    <tr>\n",
       "      <th>9</th>\n",
       "      <td>3.7</td>\n",
       "      <td>57189</td>\n",
       "    </tr>\n",
       "  </tbody>\n",
       "</table>\n",
       "</div>"
      ],
      "text/plain": [
       "   years_experience  salary\n",
       "0               1.1   39343\n",
       "1               1.3   46205\n",
       "2               1.5   37731\n",
       "3               2.0   43525\n",
       "4               2.2   39891\n",
       "5               2.9   56642\n",
       "6               3.0   60150\n",
       "7               3.2   54445\n",
       "8               3.2   64445\n",
       "9               3.7   57189"
      ]
     },
     "execution_count": 3,
     "metadata": {},
     "output_type": "execute_result"
    }
   ],
   "source": [
    "# looking at first few values in dataframe\n",
    "\n",
    "df.head(10)"
   ]
  },
  {
   "cell_type": "markdown",
   "id": "e78dd8b0",
   "metadata": {},
   "source": [
    "Above you can see we are working with a mock dataset which shows an individual's salary with x years of experience."
   ]
  },
  {
   "cell_type": "markdown",
   "id": "e8467e85",
   "metadata": {},
   "source": [
    "## Visualizing the Linear Relationship between Years of Experience and Salary:"
   ]
  },
  {
   "cell_type": "code",
   "execution_count": 4,
   "id": "38627d00",
   "metadata": {
    "scrolled": false
   },
   "outputs": [
    {
     "data": {
      "image/png": "[encoded data removed]",
      "text/plain": [
       "<Figure size 864x576 with 1 Axes>"
      ]
     },
     "metadata": {},
     "output_type": "display_data"
    }
   ],
   "source": [
    "# using a scatterplot to first see if there is a linear relationship between the two variables\n",
    "\n",
    "plt.figure(figsize=(12,8))\n",
    "plt.scatter(x=df.years_experience, y=df.salary)\n",
    "plt.xlabel(\"Years of Experience\", fontsize=15)\n",
    "plt.ylabel(\"Salary (USD)\", fontsize=15)\n",
    "plt.title(\"Relationship Between Years of Experience and Salary Earned\", fontsize=15)\n",
    "plt.show()"
   ]
  },
  {
   "cell_type": "markdown",
   "id": "ea9e44c5",
   "metadata": {},
   "source": [
    "### Now let's split this dataset into a training set and a testing set. \n",
    "\n",
    "By doing this, we will be able to train our linear regression model with the first set of values, then test the model with the second set. If it performs well on both, we can be relatively confident it will be a good model to predict future, unknown values. "
   ]
  },
  {
   "cell_type": "markdown",
   "id": "1b5c2d1d",
   "metadata": {},
   "source": [
    "##### In the first example, I make a small mistake which will affect my model - based on your earlier lecture video, can you spot the mistake?"
   ]
  },
  {
   "cell_type": "code",
   "execution_count": 6,
   "id": "d6841b70",
   "metadata": {
    "scrolled": false
   },
   "outputs": [
    {
     "name": "stdout",
     "output_type": "stream",
     "text": [
      "<class 'pandas.core.frame.DataFrame'>\n",
      "RangeIndex: 30 entries, 0 to 29\n",
      "Data columns (total 2 columns):\n",
      " #   Column            Non-Null Count  Dtype  \n",
      "---  ------            --------------  -----  \n",
      " 0   years_experience  30 non-null     float64\n",
      " 1   salary            30 non-null     int64  \n",
      "dtypes: float64(1), int64(1)\n",
      "memory usage: 608.0 bytes\n"
     ]
    }
   ],
   "source": [
    "# checking info on dataframe to see how many rows/columns we have and make sure they are listed in appropriate data types\n",
    "\n",
    "df.info()"
   ]
  },
  {
   "cell_type": "code",
   "execution_count": 5,
   "id": "72c870bf",
   "metadata": {
    "scrolled": false
   },
   "outputs": [
    {
     "data": {
      "text/html": [
       "<div>\n",
       "<style scoped>\n",
       "    .dataframe tbody tr th:only-of-type {\n",
       "        vertical-align: middle;\n",
       "    }\n",
       "\n",
       "    .dataframe tbody tr th {\n",
       "        vertical-align: top;\n",
       "    }\n",
       "\n",
       "    .dataframe thead th {\n",
       "        text-align: right;\n",
       "    }\n",
       "</style>\n",
       "<table border=\"1\" class=\"dataframe\">\n",
       "  <thead>\n",
       "    <tr style=\"text-align: right;\">\n",
       "      <th></th>\n",
       "      <th>years_experience</th>\n",
       "      <th>salary</th>\n",
       "    </tr>\n",
       "  </thead>\n",
       "  <tbody>\n",
       "    <tr>\n",
       "      <th>15</th>\n",
       "      <td>4.9</td>\n",
       "      <td>67938</td>\n",
       "    </tr>\n",
       "    <tr>\n",
       "      <th>16</th>\n",
       "      <td>5.1</td>\n",
       "      <td>66029</td>\n",
       "    </tr>\n",
       "    <tr>\n",
       "      <th>17</th>\n",
       "      <td>5.3</td>\n",
       "      <td>83088</td>\n",
       "    </tr>\n",
       "    <tr>\n",
       "      <th>18</th>\n",
       "      <td>5.9</td>\n",
       "      <td>81363</td>\n",
       "    </tr>\n",
       "    <tr>\n",
       "      <th>19</th>\n",
       "      <td>6.0</td>\n",
       "      <td>93940</td>\n",
       "    </tr>\n",
       "    <tr>\n",
       "      <th>20</th>\n",
       "      <td>6.8</td>\n",
       "      <td>91738</td>\n",
       "    </tr>\n",
       "    <tr>\n",
       "      <th>21</th>\n",
       "      <td>7.1</td>\n",
       "      <td>98273</td>\n",
       "    </tr>\n",
       "    <tr>\n",
       "      <th>22</th>\n",
       "      <td>7.9</td>\n",
       "      <td>101302</td>\n",
       "    </tr>\n",
       "    <tr>\n",
       "      <th>23</th>\n",
       "      <td>8.2</td>\n",
       "      <td>113812</td>\n",
       "    </tr>\n",
       "    <tr>\n",
       "      <th>24</th>\n",
       "      <td>8.7</td>\n",
       "      <td>109431</td>\n",
       "    </tr>\n",
       "    <tr>\n",
       "      <th>25</th>\n",
       "      <td>9.0</td>\n",
       "      <td>105582</td>\n",
       "    </tr>\n",
       "    <tr>\n",
       "      <th>26</th>\n",
       "      <td>9.5</td>\n",
       "      <td>116969</td>\n",
       "    </tr>\n",
       "    <tr>\n",
       "      <th>27</th>\n",
       "      <td>9.6</td>\n",
       "      <td>112635</td>\n",
       "    </tr>\n",
       "    <tr>\n",
       "      <th>28</th>\n",
       "      <td>10.3</td>\n",
       "      <td>122391</td>\n",
       "    </tr>\n",
       "    <tr>\n",
       "      <th>29</th>\n",
       "      <td>10.5</td>\n",
       "      <td>121872</td>\n",
       "    </tr>\n",
       "  </tbody>\n",
       "</table>\n",
       "</div>"
      ],
      "text/plain": [
       "    years_experience  salary\n",
       "15               4.9   67938\n",
       "16               5.1   66029\n",
       "17               5.3   83088\n",
       "18               5.9   81363\n",
       "19               6.0   93940\n",
       "20               6.8   91738\n",
       "21               7.1   98273\n",
       "22               7.9  101302\n",
       "23               8.2  113812\n",
       "24               8.7  109431\n",
       "25               9.0  105582\n",
       "26               9.5  116969\n",
       "27               9.6  112635\n",
       "28              10.3  122391\n",
       "29              10.5  121872"
      ]
     },
     "execution_count": 5,
     "metadata": {},
     "output_type": "execute_result"
    }
   ],
   "source": [
    "# taking second half of dataset to use as testing set\n",
    "\n",
    "df_test = df.iloc[15:].copy()\n",
    "df_test"
   ]
  },
  {
   "cell_type": "code",
   "execution_count": 7,
   "id": "06cb731b",
   "metadata": {
    "scrolled": false
   },
   "outputs": [
    {
     "data": {
      "text/html": [
       "<div>\n",
       "<style scoped>\n",
       "    .dataframe tbody tr th:only-of-type {\n",
       "        vertical-align: middle;\n",
       "    }\n",
       "\n",
       "    .dataframe tbody tr th {\n",
       "        vertical-align: top;\n",
       "    }\n",
       "\n",
       "    .dataframe thead th {\n",
       "        text-align: right;\n",
       "    }\n",
       "</style>\n",
       "<table border=\"1\" class=\"dataframe\">\n",
       "  <thead>\n",
       "    <tr style=\"text-align: right;\">\n",
       "      <th></th>\n",
       "      <th>years_experience</th>\n",
       "      <th>salary</th>\n",
       "    </tr>\n",
       "  </thead>\n",
       "  <tbody>\n",
       "    <tr>\n",
       "      <th>0</th>\n",
       "      <td>1.1</td>\n",
       "      <td>39343</td>\n",
       "    </tr>\n",
       "    <tr>\n",
       "      <th>1</th>\n",
       "      <td>1.3</td>\n",
       "      <td>46205</td>\n",
       "    </tr>\n",
       "    <tr>\n",
       "      <th>2</th>\n",
       "      <td>1.5</td>\n",
       "      <td>37731</td>\n",
       "    </tr>\n",
       "    <tr>\n",
       "      <th>3</th>\n",
       "      <td>2.0</td>\n",
       "      <td>43525</td>\n",
       "    </tr>\n",
       "    <tr>\n",
       "      <th>4</th>\n",
       "      <td>2.2</td>\n",
       "      <td>39891</td>\n",
       "    </tr>\n",
       "    <tr>\n",
       "      <th>5</th>\n",
       "      <td>2.9</td>\n",
       "      <td>56642</td>\n",
       "    </tr>\n",
       "    <tr>\n",
       "      <th>6</th>\n",
       "      <td>3.0</td>\n",
       "      <td>60150</td>\n",
       "    </tr>\n",
       "    <tr>\n",
       "      <th>7</th>\n",
       "      <td>3.2</td>\n",
       "      <td>54445</td>\n",
       "    </tr>\n",
       "    <tr>\n",
       "      <th>8</th>\n",
       "      <td>3.2</td>\n",
       "      <td>64445</td>\n",
       "    </tr>\n",
       "    <tr>\n",
       "      <th>9</th>\n",
       "      <td>3.7</td>\n",
       "      <td>57189</td>\n",
       "    </tr>\n",
       "    <tr>\n",
       "      <th>10</th>\n",
       "      <td>3.9</td>\n",
       "      <td>63218</td>\n",
       "    </tr>\n",
       "    <tr>\n",
       "      <th>11</th>\n",
       "      <td>4.0</td>\n",
       "      <td>55794</td>\n",
       "    </tr>\n",
       "    <tr>\n",
       "      <th>12</th>\n",
       "      <td>4.0</td>\n",
       "      <td>56957</td>\n",
       "    </tr>\n",
       "    <tr>\n",
       "      <th>13</th>\n",
       "      <td>4.1</td>\n",
       "      <td>57081</td>\n",
       "    </tr>\n",
       "    <tr>\n",
       "      <th>14</th>\n",
       "      <td>4.5</td>\n",
       "      <td>61111</td>\n",
       "    </tr>\n",
       "  </tbody>\n",
       "</table>\n",
       "</div>"
      ],
      "text/plain": [
       "    years_experience  salary\n",
       "0                1.1   39343\n",
       "1                1.3   46205\n",
       "2                1.5   37731\n",
       "3                2.0   43525\n",
       "4                2.2   39891\n",
       "5                2.9   56642\n",
       "6                3.0   60150\n",
       "7                3.2   54445\n",
       "8                3.2   64445\n",
       "9                3.7   57189\n",
       "10               3.9   63218\n",
       "11               4.0   55794\n",
       "12               4.0   56957\n",
       "13               4.1   57081\n",
       "14               4.5   61111"
      ]
     },
     "execution_count": 7,
     "metadata": {},
     "output_type": "execute_result"
    }
   ],
   "source": [
    "# taking first half of dataset to use as training set\n",
    "\n",
    "df_train = df.iloc[:15].copy()\n",
    "df_train"
   ]
  },
  {
   "cell_type": "markdown",
   "id": "f4640a28",
   "metadata": {},
   "source": [
    "#### To break this down, I am going to create a line on our graph using the regression formula so you can see what is going on behind the scenes of linear regression models. "
   ]
  },
  {
   "cell_type": "markdown",
   "id": "87e6c117",
   "metadata": {},
   "source": [
    "### Simple Linear Regression Equation:"
   ]
  },
  {
   "cell_type": "code",
   "execution_count": 8,
   "id": "eba49eab",
   "metadata": {},
   "outputs": [
    {
     "data": {
      "image/png": "[encoded data removed]",
      "text/plain": [
       "<IPython.core.display.Image object>"
      ]
     },
     "execution_count": 8,
     "metadata": {},
     "output_type": "execute_result"
    }
   ],
   "source": [
    "Image(filename='linear_equation.png')"
   ]
  },
  {
   "cell_type": "code",
   "execution_count": 9,
   "id": "614a347b",
   "metadata": {
    "scrolled": false
   },
   "outputs": [],
   "source": [
    "# making 'lm' name for my linear model variable used to fit for linear regression\n",
    "\n",
    "lm = LinearRegression(fit_intercept=True)"
   ]
  },
  {
   "cell_type": "code",
   "execution_count": 10,
   "id": "bc7858bf",
   "metadata": {
    "scrolled": false
   },
   "outputs": [
    {
     "data": {
      "text/plain": [
       "LinearRegression()"
      ]
     },
     "execution_count": 10,
     "metadata": {},
     "output_type": "execute_result"
    }
   ],
   "source": [
    "# fitting the lm on the training dataset\n",
    "\n",
    "lm.fit(X = df_train.years_experience.to_frame(), y=df_train.salary)"
   ]
  },
  {
   "cell_type": "code",
   "execution_count": 11,
   "id": "db03a588",
   "metadata": {
    "scrolled": false
   },
   "outputs": [
    {
     "data": {
      "text/plain": [
       "array([6853.4545736])"
      ]
     },
     "execution_count": 11,
     "metadata": {},
     "output_type": "execute_result"
    }
   ],
   "source": [
    "# displaying the slope of the line which the model fit to the data\n",
    "\n",
    "slope = lm.coef_\n",
    "slope"
   ]
  },
  {
   "cell_type": "code",
   "execution_count": 12,
   "id": "7f1461d8",
   "metadata": {
    "scrolled": false
   },
   "outputs": [
    {
     "data": {
      "text/plain": [
       "32537.528401176274"
      ]
     },
     "execution_count": 12,
     "metadata": {},
     "output_type": "execute_result"
    }
   ],
   "source": [
    "# displaying the intercept of the line which the model fit to the data\n",
    "\n",
    "intercept = lm.intercept_\n",
    "intercept"
   ]
  },
  {
   "cell_type": "code",
   "execution_count": 13,
   "id": "48673b88",
   "metadata": {
    "scrolled": false
   },
   "outputs": [
    {
     "data": {
      "text/html": [
       "<div>\n",
       "<style scoped>\n",
       "    .dataframe tbody tr th:only-of-type {\n",
       "        vertical-align: middle;\n",
       "    }\n",
       "\n",
       "    .dataframe tbody tr th {\n",
       "        vertical-align: top;\n",
       "    }\n",
       "\n",
       "    .dataframe thead th {\n",
       "        text-align: right;\n",
       "    }\n",
       "</style>\n",
       "<table border=\"1\" class=\"dataframe\">\n",
       "  <thead>\n",
       "    <tr style=\"text-align: right;\">\n",
       "      <th></th>\n",
       "      <th>years_experience</th>\n",
       "      <th>salary</th>\n",
       "      <th>lm_salary_prediction</th>\n",
       "    </tr>\n",
       "  </thead>\n",
       "  <tbody>\n",
       "    <tr>\n",
       "      <th>0</th>\n",
       "      <td>1.1</td>\n",
       "      <td>39343</td>\n",
       "      <td>40076.328432</td>\n",
       "    </tr>\n",
       "    <tr>\n",
       "      <th>1</th>\n",
       "      <td>1.3</td>\n",
       "      <td>46205</td>\n",
       "      <td>41447.019347</td>\n",
       "    </tr>\n",
       "    <tr>\n",
       "      <th>2</th>\n",
       "      <td>1.5</td>\n",
       "      <td>37731</td>\n",
       "      <td>42817.710262</td>\n",
       "    </tr>\n",
       "    <tr>\n",
       "      <th>3</th>\n",
       "      <td>2.0</td>\n",
       "      <td>43525</td>\n",
       "      <td>46244.437548</td>\n",
       "    </tr>\n",
       "    <tr>\n",
       "      <th>4</th>\n",
       "      <td>2.2</td>\n",
       "      <td>39891</td>\n",
       "      <td>47615.128463</td>\n",
       "    </tr>\n",
       "    <tr>\n",
       "      <th>5</th>\n",
       "      <td>2.9</td>\n",
       "      <td>56642</td>\n",
       "      <td>52412.546665</td>\n",
       "    </tr>\n",
       "    <tr>\n",
       "      <th>6</th>\n",
       "      <td>3.0</td>\n",
       "      <td>60150</td>\n",
       "      <td>53097.892122</td>\n",
       "    </tr>\n",
       "    <tr>\n",
       "      <th>7</th>\n",
       "      <td>3.2</td>\n",
       "      <td>54445</td>\n",
       "      <td>54468.583037</td>\n",
       "    </tr>\n",
       "    <tr>\n",
       "      <th>8</th>\n",
       "      <td>3.2</td>\n",
       "      <td>64445</td>\n",
       "      <td>54468.583037</td>\n",
       "    </tr>\n",
       "    <tr>\n",
       "      <th>9</th>\n",
       "      <td>3.7</td>\n",
       "      <td>57189</td>\n",
       "      <td>57895.310323</td>\n",
       "    </tr>\n",
       "    <tr>\n",
       "      <th>10</th>\n",
       "      <td>3.9</td>\n",
       "      <td>63218</td>\n",
       "      <td>59266.001238</td>\n",
       "    </tr>\n",
       "    <tr>\n",
       "      <th>11</th>\n",
       "      <td>4.0</td>\n",
       "      <td>55794</td>\n",
       "      <td>59951.346696</td>\n",
       "    </tr>\n",
       "    <tr>\n",
       "      <th>12</th>\n",
       "      <td>4.0</td>\n",
       "      <td>56957</td>\n",
       "      <td>59951.346696</td>\n",
       "    </tr>\n",
       "    <tr>\n",
       "      <th>13</th>\n",
       "      <td>4.1</td>\n",
       "      <td>57081</td>\n",
       "      <td>60636.692153</td>\n",
       "    </tr>\n",
       "    <tr>\n",
       "      <th>14</th>\n",
       "      <td>4.5</td>\n",
       "      <td>61111</td>\n",
       "      <td>63378.073982</td>\n",
       "    </tr>\n",
       "  </tbody>\n",
       "</table>\n",
       "</div>"
      ],
      "text/plain": [
       "    years_experience  salary  lm_salary_prediction\n",
       "0                1.1   39343          40076.328432\n",
       "1                1.3   46205          41447.019347\n",
       "2                1.5   37731          42817.710262\n",
       "3                2.0   43525          46244.437548\n",
       "4                2.2   39891          47615.128463\n",
       "5                2.9   56642          52412.546665\n",
       "6                3.0   60150          53097.892122\n",
       "7                3.2   54445          54468.583037\n",
       "8                3.2   64445          54468.583037\n",
       "9                3.7   57189          57895.310323\n",
       "10               3.9   63218          59266.001238\n",
       "11               4.0   55794          59951.346696\n",
       "12               4.0   56957          59951.346696\n",
       "13               4.1   57081          60636.692153\n",
       "14               4.5   61111          63378.073982"
      ]
     },
     "execution_count": 13,
     "metadata": {},
     "output_type": "execute_result"
    }
   ],
   "source": [
    "# adding a prediction column based on the model's predicted numbers\n",
    "\n",
    "df_train['lm_salary_prediction'] = lm.predict(df_train.years_experience.to_frame())\n",
    "df_train\n",
    "\n",
    "# look at the new column and see the similarity or discrepancy of the model's predicted and actual values"
   ]
  },
  {
   "cell_type": "code",
   "execution_count": 14,
   "id": "7463783c",
   "metadata": {
    "scrolled": false
   },
   "outputs": [],
   "source": [
    "# making the line we are going to plot to visualize our linear regression\n",
    "\n",
    "x_lin = np.array([0,10.5])\n",
    "y_lin = intercept + slope * x_lin"
   ]
  },
  {
   "cell_type": "markdown",
   "id": "4c5729ef",
   "metadata": {},
   "source": [
    "### Plot of our training data with regression line: "
   ]
  },
  {
   "cell_type": "code",
   "execution_count": 15,
   "id": "a9e830b4",
   "metadata": {
    "scrolled": false
   },
   "outputs": [
    {
     "data": {
      "image/png": "[encoded data removed]",
      "text/plain": [
       "<Figure size 864x576 with 1 Axes>"
      ]
     },
     "metadata": {},
     "output_type": "display_data"
    }
   ],
   "source": [
    "# creating a scatter plot with our linear regression line displayed over it\n",
    "\n",
    "plt.figure(figsize=(12,8))\n",
    "plt.scatter(x=df_train.years_experience, y=df_train.salary, label=\"Data\")\n",
    "plt.plot(x_lin, y_lin, c=\"red\", label=\"Regression Line\")\n",
    "plt.xlabel(\"Years of Experience\", fontsize=15)\n",
    "plt.ylabel(\"Salary (USD)\", fontsize=15)\n",
    "plt.title(\"Relationship Between Years of Experience and Salary Earned\", fontsize=15)\n",
    "plt.legend(fontsize=15)\n",
    "plt.show()"
   ]
  },
  {
   "cell_type": "code",
   "execution_count": 16,
   "id": "e2b0f381",
   "metadata": {
    "scrolled": false
   },
   "outputs": [
    {
     "data": {
      "text/html": [
       "<div>\n",
       "<style scoped>\n",
       "    .dataframe tbody tr th:only-of-type {\n",
       "        vertical-align: middle;\n",
       "    }\n",
       "\n",
       "    .dataframe tbody tr th {\n",
       "        vertical-align: top;\n",
       "    }\n",
       "\n",
       "    .dataframe thead th {\n",
       "        text-align: right;\n",
       "    }\n",
       "</style>\n",
       "<table border=\"1\" class=\"dataframe\">\n",
       "  <thead>\n",
       "    <tr style=\"text-align: right;\">\n",
       "      <th></th>\n",
       "      <th>years_experience</th>\n",
       "      <th>salary</th>\n",
       "    </tr>\n",
       "  </thead>\n",
       "  <tbody>\n",
       "    <tr>\n",
       "      <th>15</th>\n",
       "      <td>4.9</td>\n",
       "      <td>67938</td>\n",
       "    </tr>\n",
       "    <tr>\n",
       "      <th>16</th>\n",
       "      <td>5.1</td>\n",
       "      <td>66029</td>\n",
       "    </tr>\n",
       "    <tr>\n",
       "      <th>17</th>\n",
       "      <td>5.3</td>\n",
       "      <td>83088</td>\n",
       "    </tr>\n",
       "    <tr>\n",
       "      <th>18</th>\n",
       "      <td>5.9</td>\n",
       "      <td>81363</td>\n",
       "    </tr>\n",
       "    <tr>\n",
       "      <th>19</th>\n",
       "      <td>6.0</td>\n",
       "      <td>93940</td>\n",
       "    </tr>\n",
       "    <tr>\n",
       "      <th>20</th>\n",
       "      <td>6.8</td>\n",
       "      <td>91738</td>\n",
       "    </tr>\n",
       "    <tr>\n",
       "      <th>21</th>\n",
       "      <td>7.1</td>\n",
       "      <td>98273</td>\n",
       "    </tr>\n",
       "    <tr>\n",
       "      <th>22</th>\n",
       "      <td>7.9</td>\n",
       "      <td>101302</td>\n",
       "    </tr>\n",
       "    <tr>\n",
       "      <th>23</th>\n",
       "      <td>8.2</td>\n",
       "      <td>113812</td>\n",
       "    </tr>\n",
       "    <tr>\n",
       "      <th>24</th>\n",
       "      <td>8.7</td>\n",
       "      <td>109431</td>\n",
       "    </tr>\n",
       "  </tbody>\n",
       "</table>\n",
       "</div>"
      ],
      "text/plain": [
       "    years_experience  salary\n",
       "15               4.9   67938\n",
       "16               5.1   66029\n",
       "17               5.3   83088\n",
       "18               5.9   81363\n",
       "19               6.0   93940\n",
       "20               6.8   91738\n",
       "21               7.1   98273\n",
       "22               7.9  101302\n",
       "23               8.2  113812\n",
       "24               8.7  109431"
      ]
     },
     "execution_count": 16,
     "metadata": {},
     "output_type": "execute_result"
    }
   ],
   "source": [
    "# looking again at our testing dataset\n",
    "\n",
    "df_test.head(10)"
   ]
  },
  {
   "cell_type": "code",
   "execution_count": 17,
   "id": "54cf3abb",
   "metadata": {
    "scrolled": false
   },
   "outputs": [
    {
     "data": {
      "text/html": [
       "<div>\n",
       "<style scoped>\n",
       "    .dataframe tbody tr th:only-of-type {\n",
       "        vertical-align: middle;\n",
       "    }\n",
       "\n",
       "    .dataframe tbody tr th {\n",
       "        vertical-align: top;\n",
       "    }\n",
       "\n",
       "    .dataframe thead th {\n",
       "        text-align: right;\n",
       "    }\n",
       "</style>\n",
       "<table border=\"1\" class=\"dataframe\">\n",
       "  <thead>\n",
       "    <tr style=\"text-align: right;\">\n",
       "      <th></th>\n",
       "      <th>years_experience</th>\n",
       "      <th>salary</th>\n",
       "      <th>lm_salary_prediction</th>\n",
       "    </tr>\n",
       "  </thead>\n",
       "  <tbody>\n",
       "    <tr>\n",
       "      <th>15</th>\n",
       "      <td>4.9</td>\n",
       "      <td>67938</td>\n",
       "      <td>66119.455812</td>\n",
       "    </tr>\n",
       "    <tr>\n",
       "      <th>16</th>\n",
       "      <td>5.1</td>\n",
       "      <td>66029</td>\n",
       "      <td>67490.146727</td>\n",
       "    </tr>\n",
       "    <tr>\n",
       "      <th>17</th>\n",
       "      <td>5.3</td>\n",
       "      <td>83088</td>\n",
       "      <td>68860.837641</td>\n",
       "    </tr>\n",
       "    <tr>\n",
       "      <th>18</th>\n",
       "      <td>5.9</td>\n",
       "      <td>81363</td>\n",
       "      <td>72972.910385</td>\n",
       "    </tr>\n",
       "    <tr>\n",
       "      <th>19</th>\n",
       "      <td>6.0</td>\n",
       "      <td>93940</td>\n",
       "      <td>73658.255843</td>\n",
       "    </tr>\n",
       "    <tr>\n",
       "      <th>20</th>\n",
       "      <td>6.8</td>\n",
       "      <td>91738</td>\n",
       "      <td>79141.019502</td>\n",
       "    </tr>\n",
       "    <tr>\n",
       "      <th>21</th>\n",
       "      <td>7.1</td>\n",
       "      <td>98273</td>\n",
       "      <td>81197.055874</td>\n",
       "    </tr>\n",
       "    <tr>\n",
       "      <th>22</th>\n",
       "      <td>7.9</td>\n",
       "      <td>101302</td>\n",
       "      <td>86679.819533</td>\n",
       "    </tr>\n",
       "    <tr>\n",
       "      <th>23</th>\n",
       "      <td>8.2</td>\n",
       "      <td>113812</td>\n",
       "      <td>88735.855905</td>\n",
       "    </tr>\n",
       "    <tr>\n",
       "      <th>24</th>\n",
       "      <td>8.7</td>\n",
       "      <td>109431</td>\n",
       "      <td>92162.583191</td>\n",
       "    </tr>\n",
       "    <tr>\n",
       "      <th>25</th>\n",
       "      <td>9.0</td>\n",
       "      <td>105582</td>\n",
       "      <td>94218.619564</td>\n",
       "    </tr>\n",
       "    <tr>\n",
       "      <th>26</th>\n",
       "      <td>9.5</td>\n",
       "      <td>116969</td>\n",
       "      <td>97645.346850</td>\n",
       "    </tr>\n",
       "    <tr>\n",
       "      <th>27</th>\n",
       "      <td>9.6</td>\n",
       "      <td>112635</td>\n",
       "      <td>98330.692308</td>\n",
       "    </tr>\n",
       "    <tr>\n",
       "      <th>28</th>\n",
       "      <td>10.3</td>\n",
       "      <td>122391</td>\n",
       "      <td>103128.110509</td>\n",
       "    </tr>\n",
       "    <tr>\n",
       "      <th>29</th>\n",
       "      <td>10.5</td>\n",
       "      <td>121872</td>\n",
       "      <td>104498.801424</td>\n",
       "    </tr>\n",
       "  </tbody>\n",
       "</table>\n",
       "</div>"
      ],
      "text/plain": [
       "    years_experience  salary  lm_salary_prediction\n",
       "15               4.9   67938          66119.455812\n",
       "16               5.1   66029          67490.146727\n",
       "17               5.3   83088          68860.837641\n",
       "18               5.9   81363          72972.910385\n",
       "19               6.0   93940          73658.255843\n",
       "20               6.8   91738          79141.019502\n",
       "21               7.1   98273          81197.055874\n",
       "22               7.9  101302          86679.819533\n",
       "23               8.2  113812          88735.855905\n",
       "24               8.7  109431          92162.583191\n",
       "25               9.0  105582          94218.619564\n",
       "26               9.5  116969          97645.346850\n",
       "27               9.6  112635          98330.692308\n",
       "28              10.3  122391         103128.110509\n",
       "29              10.5  121872         104498.801424"
      ]
     },
     "execution_count": 17,
     "metadata": {},
     "output_type": "execute_result"
    }
   ],
   "source": [
    "# adding a prediction column based on the model's predicted numbers\n",
    "\n",
    "df_test['lm_salary_prediction'] = lm.predict(df_test.years_experience.to_frame())\n",
    "df_test\n",
    "\n",
    "# look at the new column and see the similarity or discrepancy of the model's predicted and actual values"
   ]
  },
  {
   "cell_type": "markdown",
   "id": "53dc4706",
   "metadata": {},
   "source": [
    "### Plot of our training and testing data with a regression line... What happened at the end?"
   ]
  },
  {
   "cell_type": "code",
   "execution_count": 18,
   "id": "ffcb4d41",
   "metadata": {
    "scrolled": false
   },
   "outputs": [
    {
     "data": {
      "image/png": "[encoded data removed]",
      "text/plain": [
       "<Figure size 864x576 with 1 Axes>"
      ]
     },
     "metadata": {},
     "output_type": "display_data"
    }
   ],
   "source": [
    "# creating a scatter plot with our linear regression line displayed over it\n",
    "\n",
    "plt.figure(figsize=(12,8))\n",
    "plt.scatter(x=df_train.years_experience, y=df_train.salary, label=\"Data\")\n",
    "plt.plot(x_lin, y_lin, c=\"red\", label=\"Regression Line\")\n",
    "plt.scatter(x=df_test.years_experience, y=df_test.salary, label=\"New Data\")\n",
    "plt.xlabel(\"Years of Experience\", fontsize=15)\n",
    "plt.ylabel(\"Salary (USD)\", fontsize=15)\n",
    "plt.title(\"Relationship Between Years of Experience and Salary Earned\", fontsize=15)\n",
    "plt.legend(fontsize=15)\n",
    "plt.show()"
   ]
  },
  {
   "cell_type": "markdown",
   "id": "43e573a6",
   "metadata": {},
   "source": [
    "### Based on the output above, it doesn't look like our model is a good fit for predicting future values. Do you see how it fit the training data but not the test data?"
   ]
  },
  {
   "cell_type": "markdown",
   "id": "a7b62234",
   "metadata": {},
   "source": [
    "One thing we can do to remedy this is use more of the data for training. This is the mistake I said to look out for earlier. If we split the data 50/50, we likely won't have enough training data to get a good fit.\n",
    "\n",
    "For our purposes in the review today, we'll fix it by taking the first 25 rows as training and last 5 rows as testing."
   ]
  },
  {
   "cell_type": "code",
   "execution_count": 19,
   "id": "79f4ce67",
   "metadata": {
    "scrolled": false
   },
   "outputs": [
    {
     "data": {
      "text/html": [
       "<div>\n",
       "<style scoped>\n",
       "    .dataframe tbody tr th:only-of-type {\n",
       "        vertical-align: middle;\n",
       "    }\n",
       "\n",
       "    .dataframe tbody tr th {\n",
       "        vertical-align: top;\n",
       "    }\n",
       "\n",
       "    .dataframe thead th {\n",
       "        text-align: right;\n",
       "    }\n",
       "</style>\n",
       "<table border=\"1\" class=\"dataframe\">\n",
       "  <thead>\n",
       "    <tr style=\"text-align: right;\">\n",
       "      <th></th>\n",
       "      <th>years_experience</th>\n",
       "      <th>salary</th>\n",
       "    </tr>\n",
       "  </thead>\n",
       "  <tbody>\n",
       "    <tr>\n",
       "      <th>0</th>\n",
       "      <td>1.1</td>\n",
       "      <td>39343</td>\n",
       "    </tr>\n",
       "    <tr>\n",
       "      <th>1</th>\n",
       "      <td>1.3</td>\n",
       "      <td>46205</td>\n",
       "    </tr>\n",
       "    <tr>\n",
       "      <th>2</th>\n",
       "      <td>1.5</td>\n",
       "      <td>37731</td>\n",
       "    </tr>\n",
       "    <tr>\n",
       "      <th>3</th>\n",
       "      <td>2.0</td>\n",
       "      <td>43525</td>\n",
       "    </tr>\n",
       "    <tr>\n",
       "      <th>4</th>\n",
       "      <td>2.2</td>\n",
       "      <td>39891</td>\n",
       "    </tr>\n",
       "    <tr>\n",
       "      <th>5</th>\n",
       "      <td>2.9</td>\n",
       "      <td>56642</td>\n",
       "    </tr>\n",
       "    <tr>\n",
       "      <th>6</th>\n",
       "      <td>3.0</td>\n",
       "      <td>60150</td>\n",
       "    </tr>\n",
       "    <tr>\n",
       "      <th>7</th>\n",
       "      <td>3.2</td>\n",
       "      <td>54445</td>\n",
       "    </tr>\n",
       "    <tr>\n",
       "      <th>8</th>\n",
       "      <td>3.2</td>\n",
       "      <td>64445</td>\n",
       "    </tr>\n",
       "    <tr>\n",
       "      <th>9</th>\n",
       "      <td>3.7</td>\n",
       "      <td>57189</td>\n",
       "    </tr>\n",
       "    <tr>\n",
       "      <th>10</th>\n",
       "      <td>3.9</td>\n",
       "      <td>63218</td>\n",
       "    </tr>\n",
       "    <tr>\n",
       "      <th>11</th>\n",
       "      <td>4.0</td>\n",
       "      <td>55794</td>\n",
       "    </tr>\n",
       "    <tr>\n",
       "      <th>12</th>\n",
       "      <td>4.0</td>\n",
       "      <td>56957</td>\n",
       "    </tr>\n",
       "    <tr>\n",
       "      <th>13</th>\n",
       "      <td>4.1</td>\n",
       "      <td>57081</td>\n",
       "    </tr>\n",
       "    <tr>\n",
       "      <th>14</th>\n",
       "      <td>4.5</td>\n",
       "      <td>61111</td>\n",
       "    </tr>\n",
       "    <tr>\n",
       "      <th>15</th>\n",
       "      <td>4.9</td>\n",
       "      <td>67938</td>\n",
       "    </tr>\n",
       "    <tr>\n",
       "      <th>16</th>\n",
       "      <td>5.1</td>\n",
       "      <td>66029</td>\n",
       "    </tr>\n",
       "    <tr>\n",
       "      <th>17</th>\n",
       "      <td>5.3</td>\n",
       "      <td>83088</td>\n",
       "    </tr>\n",
       "    <tr>\n",
       "      <th>18</th>\n",
       "      <td>5.9</td>\n",
       "      <td>81363</td>\n",
       "    </tr>\n",
       "    <tr>\n",
       "      <th>19</th>\n",
       "      <td>6.0</td>\n",
       "      <td>93940</td>\n",
       "    </tr>\n",
       "    <tr>\n",
       "      <th>20</th>\n",
       "      <td>6.8</td>\n",
       "      <td>91738</td>\n",
       "    </tr>\n",
       "    <tr>\n",
       "      <th>21</th>\n",
       "      <td>7.1</td>\n",
       "      <td>98273</td>\n",
       "    </tr>\n",
       "    <tr>\n",
       "      <th>22</th>\n",
       "      <td>7.9</td>\n",
       "      <td>101302</td>\n",
       "    </tr>\n",
       "    <tr>\n",
       "      <th>23</th>\n",
       "      <td>8.2</td>\n",
       "      <td>113812</td>\n",
       "    </tr>\n",
       "    <tr>\n",
       "      <th>24</th>\n",
       "      <td>8.7</td>\n",
       "      <td>109431</td>\n",
       "    </tr>\n",
       "  </tbody>\n",
       "</table>\n",
       "</div>"
      ],
      "text/plain": [
       "    years_experience  salary\n",
       "0                1.1   39343\n",
       "1                1.3   46205\n",
       "2                1.5   37731\n",
       "3                2.0   43525\n",
       "4                2.2   39891\n",
       "5                2.9   56642\n",
       "6                3.0   60150\n",
       "7                3.2   54445\n",
       "8                3.2   64445\n",
       "9                3.7   57189\n",
       "10               3.9   63218\n",
       "11               4.0   55794\n",
       "12               4.0   56957\n",
       "13               4.1   57081\n",
       "14               4.5   61111\n",
       "15               4.9   67938\n",
       "16               5.1   66029\n",
       "17               5.3   83088\n",
       "18               5.9   81363\n",
       "19               6.0   93940\n",
       "20               6.8   91738\n",
       "21               7.1   98273\n",
       "22               7.9  101302\n",
       "23               8.2  113812\n",
       "24               8.7  109431"
      ]
     },
     "execution_count": 19,
     "metadata": {},
     "output_type": "execute_result"
    }
   ],
   "source": [
    "df2_train = df.iloc[:25].copy()\n",
    "df2_train"
   ]
  },
  {
   "cell_type": "code",
   "execution_count": 20,
   "id": "60d1c204",
   "metadata": {
    "scrolled": false
   },
   "outputs": [
    {
     "data": {
      "text/html": [
       "<div>\n",
       "<style scoped>\n",
       "    .dataframe tbody tr th:only-of-type {\n",
       "        vertical-align: middle;\n",
       "    }\n",
       "\n",
       "    .dataframe tbody tr th {\n",
       "        vertical-align: top;\n",
       "    }\n",
       "\n",
       "    .dataframe thead th {\n",
       "        text-align: right;\n",
       "    }\n",
       "</style>\n",
       "<table border=\"1\" class=\"dataframe\">\n",
       "  <thead>\n",
       "    <tr style=\"text-align: right;\">\n",
       "      <th></th>\n",
       "      <th>years_experience</th>\n",
       "      <th>salary</th>\n",
       "    </tr>\n",
       "  </thead>\n",
       "  <tbody>\n",
       "    <tr>\n",
       "      <th>25</th>\n",
       "      <td>9.0</td>\n",
       "      <td>105582</td>\n",
       "    </tr>\n",
       "    <tr>\n",
       "      <th>26</th>\n",
       "      <td>9.5</td>\n",
       "      <td>116969</td>\n",
       "    </tr>\n",
       "    <tr>\n",
       "      <th>27</th>\n",
       "      <td>9.6</td>\n",
       "      <td>112635</td>\n",
       "    </tr>\n",
       "    <tr>\n",
       "      <th>28</th>\n",
       "      <td>10.3</td>\n",
       "      <td>122391</td>\n",
       "    </tr>\n",
       "    <tr>\n",
       "      <th>29</th>\n",
       "      <td>10.5</td>\n",
       "      <td>121872</td>\n",
       "    </tr>\n",
       "  </tbody>\n",
       "</table>\n",
       "</div>"
      ],
      "text/plain": [
       "    years_experience  salary\n",
       "25               9.0  105582\n",
       "26               9.5  116969\n",
       "27               9.6  112635\n",
       "28              10.3  122391\n",
       "29              10.5  121872"
      ]
     },
     "execution_count": 20,
     "metadata": {},
     "output_type": "execute_result"
    }
   ],
   "source": [
    "df2_test = df.iloc[25:].copy()\n",
    "df2_test"
   ]
  },
  {
   "cell_type": "code",
   "execution_count": 21,
   "id": "2783a699",
   "metadata": {
    "scrolled": false
   },
   "outputs": [],
   "source": [
    "lm = LinearRegression(fit_intercept=True)"
   ]
  },
  {
   "cell_type": "code",
   "execution_count": 22,
   "id": "ca3d31ad",
   "metadata": {
    "scrolled": false
   },
   "outputs": [
    {
     "data": {
      "text/plain": [
       "LinearRegression()"
      ]
     },
     "execution_count": 22,
     "metadata": {},
     "output_type": "execute_result"
    }
   ],
   "source": [
    "lm.fit(X = df2_train.years_experience.to_frame(), y=df2_train.salary)"
   ]
  },
  {
   "cell_type": "code",
   "execution_count": 23,
   "id": "7fd84a8f",
   "metadata": {
    "scrolled": false
   },
   "outputs": [
    {
     "data": {
      "text/plain": [
       "array([9988.47231618])"
      ]
     },
     "execution_count": 23,
     "metadata": {},
     "output_type": "execute_result"
    }
   ],
   "source": [
    "slope = lm.coef_\n",
    "slope"
   ]
  },
  {
   "cell_type": "code",
   "execution_count": 24,
   "id": "bc384386",
   "metadata": {
    "scrolled": false
   },
   "outputs": [
    {
     "data": {
      "text/plain": [
       "23876.592362471056"
      ]
     },
     "execution_count": 24,
     "metadata": {},
     "output_type": "execute_result"
    }
   ],
   "source": [
    "intercept = lm.intercept_\n",
    "intercept"
   ]
  },
  {
   "cell_type": "code",
   "execution_count": 25,
   "id": "357728b5",
   "metadata": {
    "scrolled": false
   },
   "outputs": [
    {
     "data": {
      "text/html": [
       "<div>\n",
       "<style scoped>\n",
       "    .dataframe tbody tr th:only-of-type {\n",
       "        vertical-align: middle;\n",
       "    }\n",
       "\n",
       "    .dataframe tbody tr th {\n",
       "        vertical-align: top;\n",
       "    }\n",
       "\n",
       "    .dataframe thead th {\n",
       "        text-align: right;\n",
       "    }\n",
       "</style>\n",
       "<table border=\"1\" class=\"dataframe\">\n",
       "  <thead>\n",
       "    <tr style=\"text-align: right;\">\n",
       "      <th></th>\n",
       "      <th>years_experience</th>\n",
       "      <th>salary</th>\n",
       "      <th>lm_salary_prediction</th>\n",
       "    </tr>\n",
       "  </thead>\n",
       "  <tbody>\n",
       "    <tr>\n",
       "      <th>0</th>\n",
       "      <td>1.1</td>\n",
       "      <td>39343</td>\n",
       "      <td>34863.911910</td>\n",
       "    </tr>\n",
       "    <tr>\n",
       "      <th>1</th>\n",
       "      <td>1.3</td>\n",
       "      <td>46205</td>\n",
       "      <td>36861.606374</td>\n",
       "    </tr>\n",
       "    <tr>\n",
       "      <th>2</th>\n",
       "      <td>1.5</td>\n",
       "      <td>37731</td>\n",
       "      <td>38859.300837</td>\n",
       "    </tr>\n",
       "    <tr>\n",
       "      <th>3</th>\n",
       "      <td>2.0</td>\n",
       "      <td>43525</td>\n",
       "      <td>43853.536995</td>\n",
       "    </tr>\n",
       "    <tr>\n",
       "      <th>4</th>\n",
       "      <td>2.2</td>\n",
       "      <td>39891</td>\n",
       "      <td>45851.231458</td>\n",
       "    </tr>\n",
       "    <tr>\n",
       "      <th>5</th>\n",
       "      <td>2.9</td>\n",
       "      <td>56642</td>\n",
       "      <td>52843.162079</td>\n",
       "    </tr>\n",
       "    <tr>\n",
       "      <th>6</th>\n",
       "      <td>3.0</td>\n",
       "      <td>60150</td>\n",
       "      <td>53842.009311</td>\n",
       "    </tr>\n",
       "    <tr>\n",
       "      <th>7</th>\n",
       "      <td>3.2</td>\n",
       "      <td>54445</td>\n",
       "      <td>55839.703774</td>\n",
       "    </tr>\n",
       "    <tr>\n",
       "      <th>8</th>\n",
       "      <td>3.2</td>\n",
       "      <td>64445</td>\n",
       "      <td>55839.703774</td>\n",
       "    </tr>\n",
       "    <tr>\n",
       "      <th>9</th>\n",
       "      <td>3.7</td>\n",
       "      <td>57189</td>\n",
       "      <td>60833.939932</td>\n",
       "    </tr>\n",
       "    <tr>\n",
       "      <th>10</th>\n",
       "      <td>3.9</td>\n",
       "      <td>63218</td>\n",
       "      <td>62831.634396</td>\n",
       "    </tr>\n",
       "    <tr>\n",
       "      <th>11</th>\n",
       "      <td>4.0</td>\n",
       "      <td>55794</td>\n",
       "      <td>63830.481627</td>\n",
       "    </tr>\n",
       "    <tr>\n",
       "      <th>12</th>\n",
       "      <td>4.0</td>\n",
       "      <td>56957</td>\n",
       "      <td>63830.481627</td>\n",
       "    </tr>\n",
       "    <tr>\n",
       "      <th>13</th>\n",
       "      <td>4.1</td>\n",
       "      <td>57081</td>\n",
       "      <td>64829.328859</td>\n",
       "    </tr>\n",
       "    <tr>\n",
       "      <th>14</th>\n",
       "      <td>4.5</td>\n",
       "      <td>61111</td>\n",
       "      <td>68824.717785</td>\n",
       "    </tr>\n",
       "    <tr>\n",
       "      <th>15</th>\n",
       "      <td>4.9</td>\n",
       "      <td>67938</td>\n",
       "      <td>72820.106712</td>\n",
       "    </tr>\n",
       "    <tr>\n",
       "      <th>16</th>\n",
       "      <td>5.1</td>\n",
       "      <td>66029</td>\n",
       "      <td>74817.801175</td>\n",
       "    </tr>\n",
       "    <tr>\n",
       "      <th>17</th>\n",
       "      <td>5.3</td>\n",
       "      <td>83088</td>\n",
       "      <td>76815.495638</td>\n",
       "    </tr>\n",
       "    <tr>\n",
       "      <th>18</th>\n",
       "      <td>5.9</td>\n",
       "      <td>81363</td>\n",
       "      <td>82808.579028</td>\n",
       "    </tr>\n",
       "    <tr>\n",
       "      <th>19</th>\n",
       "      <td>6.0</td>\n",
       "      <td>93940</td>\n",
       "      <td>83807.426260</td>\n",
       "    </tr>\n",
       "    <tr>\n",
       "      <th>20</th>\n",
       "      <td>6.8</td>\n",
       "      <td>91738</td>\n",
       "      <td>91798.204113</td>\n",
       "    </tr>\n",
       "    <tr>\n",
       "      <th>21</th>\n",
       "      <td>7.1</td>\n",
       "      <td>98273</td>\n",
       "      <td>94794.745807</td>\n",
       "    </tr>\n",
       "    <tr>\n",
       "      <th>22</th>\n",
       "      <td>7.9</td>\n",
       "      <td>101302</td>\n",
       "      <td>102785.523660</td>\n",
       "    </tr>\n",
       "    <tr>\n",
       "      <th>23</th>\n",
       "      <td>8.2</td>\n",
       "      <td>113812</td>\n",
       "      <td>105782.065355</td>\n",
       "    </tr>\n",
       "    <tr>\n",
       "      <th>24</th>\n",
       "      <td>8.7</td>\n",
       "      <td>109431</td>\n",
       "      <td>110776.301513</td>\n",
       "    </tr>\n",
       "  </tbody>\n",
       "</table>\n",
       "</div>"
      ],
      "text/plain": [
       "    years_experience  salary  lm_salary_prediction\n",
       "0                1.1   39343          34863.911910\n",
       "1                1.3   46205          36861.606374\n",
       "2                1.5   37731          38859.300837\n",
       "3                2.0   43525          43853.536995\n",
       "4                2.2   39891          45851.231458\n",
       "5                2.9   56642          52843.162079\n",
       "6                3.0   60150          53842.009311\n",
       "7                3.2   54445          55839.703774\n",
       "8                3.2   64445          55839.703774\n",
       "9                3.7   57189          60833.939932\n",
       "10               3.9   63218          62831.634396\n",
       "11               4.0   55794          63830.481627\n",
       "12               4.0   56957          63830.481627\n",
       "13               4.1   57081          64829.328859\n",
       "14               4.5   61111          68824.717785\n",
       "15               4.9   67938          72820.106712\n",
       "16               5.1   66029          74817.801175\n",
       "17               5.3   83088          76815.495638\n",
       "18               5.9   81363          82808.579028\n",
       "19               6.0   93940          83807.426260\n",
       "20               6.8   91738          91798.204113\n",
       "21               7.1   98273          94794.745807\n",
       "22               7.9  101302         102785.523660\n",
       "23               8.2  113812         105782.065355\n",
       "24               8.7  109431         110776.301513"
      ]
     },
     "execution_count": 25,
     "metadata": {},
     "output_type": "execute_result"
    }
   ],
   "source": [
    "df2_train['lm_salary_prediction'] = lm.predict(df2_train.years_experience.to_frame())\n",
    "df2_train"
   ]
  },
  {
   "cell_type": "code",
   "execution_count": 26,
   "id": "8829be86",
   "metadata": {
    "scrolled": false
   },
   "outputs": [],
   "source": [
    "x_lin = np.array([0,14.5])\n",
    "y_lin = intercept + slope * x_lin"
   ]
  },
  {
   "cell_type": "markdown",
   "id": "b2e04024",
   "metadata": {},
   "source": [
    "### Plot of new training data with regression line:"
   ]
  },
  {
   "cell_type": "code",
   "execution_count": 27,
   "id": "74f06b9a",
   "metadata": {
    "scrolled": false
   },
   "outputs": [
    {
     "data": {
      "image/png": "[encoded data removed]",
      "text/plain": [
       "<Figure size 864x576 with 1 Axes>"
      ]
     },
     "metadata": {},
     "output_type": "display_data"
    }
   ],
   "source": [
    "# creating a scatter plot with our linear regression line displayed over it\n",
    "\n",
    "plt.figure(figsize=(12,8))\n",
    "plt.scatter(x=df2_train.years_experience, y=df2_train.salary, label=\"Data\")\n",
    "plt.plot(x_lin, y_lin, c=\"red\", label=\"Regression Line\")\n",
    "plt.xlabel(\"Years of Experience\", fontsize=15)\n",
    "plt.ylabel(\"Salary (USD)\", fontsize=15)\n",
    "plt.title(\"Relationship Between Years of Experience and Salary Earned\", fontsize=15)\n",
    "plt.legend(fontsize=15)\n",
    "plt.show()"
   ]
  },
  {
   "cell_type": "code",
   "execution_count": 28,
   "id": "969391b7",
   "metadata": {
    "scrolled": false
   },
   "outputs": [
    {
     "data": {
      "text/html": [
       "<div>\n",
       "<style scoped>\n",
       "    .dataframe tbody tr th:only-of-type {\n",
       "        vertical-align: middle;\n",
       "    }\n",
       "\n",
       "    .dataframe tbody tr th {\n",
       "        vertical-align: top;\n",
       "    }\n",
       "\n",
       "    .dataframe thead th {\n",
       "        text-align: right;\n",
       "    }\n",
       "</style>\n",
       "<table border=\"1\" class=\"dataframe\">\n",
       "  <thead>\n",
       "    <tr style=\"text-align: right;\">\n",
       "      <th></th>\n",
       "      <th>years_experience</th>\n",
       "      <th>salary</th>\n",
       "      <th>lm_salary_prediction</th>\n",
       "    </tr>\n",
       "  </thead>\n",
       "  <tbody>\n",
       "    <tr>\n",
       "      <th>25</th>\n",
       "      <td>9.0</td>\n",
       "      <td>105582</td>\n",
       "      <td>113772.843208</td>\n",
       "    </tr>\n",
       "    <tr>\n",
       "      <th>26</th>\n",
       "      <td>9.5</td>\n",
       "      <td>116969</td>\n",
       "      <td>118767.079366</td>\n",
       "    </tr>\n",
       "    <tr>\n",
       "      <th>27</th>\n",
       "      <td>9.6</td>\n",
       "      <td>112635</td>\n",
       "      <td>119765.926598</td>\n",
       "    </tr>\n",
       "    <tr>\n",
       "      <th>28</th>\n",
       "      <td>10.3</td>\n",
       "      <td>122391</td>\n",
       "      <td>126757.857219</td>\n",
       "    </tr>\n",
       "    <tr>\n",
       "      <th>29</th>\n",
       "      <td>10.5</td>\n",
       "      <td>121872</td>\n",
       "      <td>128755.551682</td>\n",
       "    </tr>\n",
       "  </tbody>\n",
       "</table>\n",
       "</div>"
      ],
      "text/plain": [
       "    years_experience  salary  lm_salary_prediction\n",
       "25               9.0  105582         113772.843208\n",
       "26               9.5  116969         118767.079366\n",
       "27               9.6  112635         119765.926598\n",
       "28              10.3  122391         126757.857219\n",
       "29              10.5  121872         128755.551682"
      ]
     },
     "execution_count": 28,
     "metadata": {},
     "output_type": "execute_result"
    }
   ],
   "source": [
    "# adding a prediction column based on our new line of best fit from our new training set\n",
    "\n",
    "df2_test['lm_salary_prediction'] = lm.predict(df2_test.years_experience.to_frame())\n",
    "df2_test"
   ]
  },
  {
   "cell_type": "markdown",
   "id": "0c1913ea",
   "metadata": {},
   "source": [
    "##### Above, you can see the predictions for the last few values are much more accurate than they were with our first model which was fit on only the first half of the data. "
   ]
  },
  {
   "cell_type": "markdown",
   "id": "1cef7bde",
   "metadata": {},
   "source": [
    "### Plot of new training and testing data with regression line - Does it seem to fit better this time?"
   ]
  },
  {
   "cell_type": "code",
   "execution_count": 29,
   "id": "e6d0a3be",
   "metadata": {
    "scrolled": false
   },
   "outputs": [
    {
     "data": {
      "image/png": "[encoded data removed]",
      "text/plain": [
       "<Figure size 864x576 with 1 Axes>"
      ]
     },
     "metadata": {},
     "output_type": "display_data"
    }
   ],
   "source": [
    "# creating a scatter plot with our linear regression line displayed over it\n",
    "\n",
    "plt.figure(figsize=(12,8))\n",
    "plt.scatter(x=df2_train.years_experience, y=df2_train.salary, label=\"Data\")\n",
    "plt.plot(x_lin, y_lin, c=\"red\", label=\"Regression Line\")\n",
    "plt.scatter(x=df2_test.years_experience, y=df2_test.salary, label=\"New Data\")\n",
    "plt.xlabel(\"Years of Experience\", fontsize=15)\n",
    "plt.ylabel(\"Salary (USD)\", fontsize=15)\n",
    "plt.title(\"Relationship Between Years of Experience and Salary Earned\", fontsize=15)\n",
    "plt.legend(fontsize=15)\n",
    "plt.show()"
   ]
  },
  {
   "cell_type": "markdown",
   "id": "9c7b9a13",
   "metadata": {},
   "source": [
    "### Looking a lot better! Now, let's feed in new data and see what happens!"
   ]
  },
  {
   "cell_type": "code",
   "execution_count": 30,
   "id": "b0b8be25",
   "metadata": {},
   "outputs": [],
   "source": [
    "# creating a mock future dataset to predict salaries based on years of experience with the model we just made\n",
    "\n",
    "future_y = np.array([10.7, 11, 11.4, 11.9, 12.3, 12.8, 13.1, 13.5, 13.8, 14.2])"
   ]
  },
  {
   "cell_type": "code",
   "execution_count": 31,
   "id": "5297f19a",
   "metadata": {},
   "outputs": [],
   "source": [
    "df_future = pd.DataFrame({\"years_experience\":future_y})"
   ]
  },
  {
   "cell_type": "code",
   "execution_count": 32,
   "id": "9b04e55d",
   "metadata": {},
   "outputs": [
    {
     "data": {
      "text/html": [
       "<div>\n",
       "<style scoped>\n",
       "    .dataframe tbody tr th:only-of-type {\n",
       "        vertical-align: middle;\n",
       "    }\n",
       "\n",
       "    .dataframe tbody tr th {\n",
       "        vertical-align: top;\n",
       "    }\n",
       "\n",
       "    .dataframe thead th {\n",
       "        text-align: right;\n",
       "    }\n",
       "</style>\n",
       "<table border=\"1\" class=\"dataframe\">\n",
       "  <thead>\n",
       "    <tr style=\"text-align: right;\">\n",
       "      <th></th>\n",
       "      <th>years_experience</th>\n",
       "    </tr>\n",
       "  </thead>\n",
       "  <tbody>\n",
       "    <tr>\n",
       "      <th>0</th>\n",
       "      <td>10.7</td>\n",
       "    </tr>\n",
       "    <tr>\n",
       "      <th>1</th>\n",
       "      <td>11.0</td>\n",
       "    </tr>\n",
       "    <tr>\n",
       "      <th>2</th>\n",
       "      <td>11.4</td>\n",
       "    </tr>\n",
       "    <tr>\n",
       "      <th>3</th>\n",
       "      <td>11.9</td>\n",
       "    </tr>\n",
       "    <tr>\n",
       "      <th>4</th>\n",
       "      <td>12.3</td>\n",
       "    </tr>\n",
       "    <tr>\n",
       "      <th>5</th>\n",
       "      <td>12.8</td>\n",
       "    </tr>\n",
       "    <tr>\n",
       "      <th>6</th>\n",
       "      <td>13.1</td>\n",
       "    </tr>\n",
       "    <tr>\n",
       "      <th>7</th>\n",
       "      <td>13.5</td>\n",
       "    </tr>\n",
       "    <tr>\n",
       "      <th>8</th>\n",
       "      <td>13.8</td>\n",
       "    </tr>\n",
       "    <tr>\n",
       "      <th>9</th>\n",
       "      <td>14.2</td>\n",
       "    </tr>\n",
       "  </tbody>\n",
       "</table>\n",
       "</div>"
      ],
      "text/plain": [
       "   years_experience\n",
       "0              10.7\n",
       "1              11.0\n",
       "2              11.4\n",
       "3              11.9\n",
       "4              12.3\n",
       "5              12.8\n",
       "6              13.1\n",
       "7              13.5\n",
       "8              13.8\n",
       "9              14.2"
      ]
     },
     "execution_count": 32,
     "metadata": {},
     "output_type": "execute_result"
    }
   ],
   "source": [
    "df_future"
   ]
  },
  {
   "cell_type": "code",
   "execution_count": 33,
   "id": "b9d16405",
   "metadata": {},
   "outputs": [
    {
     "data": {
      "text/html": [
       "<div>\n",
       "<style scoped>\n",
       "    .dataframe tbody tr th:only-of-type {\n",
       "        vertical-align: middle;\n",
       "    }\n",
       "\n",
       "    .dataframe tbody tr th {\n",
       "        vertical-align: top;\n",
       "    }\n",
       "\n",
       "    .dataframe thead th {\n",
       "        text-align: right;\n",
       "    }\n",
       "</style>\n",
       "<table border=\"1\" class=\"dataframe\">\n",
       "  <thead>\n",
       "    <tr style=\"text-align: right;\">\n",
       "      <th></th>\n",
       "      <th>years_experience</th>\n",
       "      <th>lm_salary_prediction</th>\n",
       "    </tr>\n",
       "  </thead>\n",
       "  <tbody>\n",
       "    <tr>\n",
       "      <th>0</th>\n",
       "      <td>10.7</td>\n",
       "      <td>130753.246146</td>\n",
       "    </tr>\n",
       "    <tr>\n",
       "      <th>1</th>\n",
       "      <td>11.0</td>\n",
       "      <td>133749.787840</td>\n",
       "    </tr>\n",
       "    <tr>\n",
       "      <th>2</th>\n",
       "      <td>11.4</td>\n",
       "      <td>137745.176767</td>\n",
       "    </tr>\n",
       "    <tr>\n",
       "      <th>3</th>\n",
       "      <td>11.9</td>\n",
       "      <td>142739.412925</td>\n",
       "    </tr>\n",
       "    <tr>\n",
       "      <th>4</th>\n",
       "      <td>12.3</td>\n",
       "      <td>146734.801852</td>\n",
       "    </tr>\n",
       "    <tr>\n",
       "      <th>5</th>\n",
       "      <td>12.8</td>\n",
       "      <td>151729.038010</td>\n",
       "    </tr>\n",
       "    <tr>\n",
       "      <th>6</th>\n",
       "      <td>13.1</td>\n",
       "      <td>154725.579704</td>\n",
       "    </tr>\n",
       "    <tr>\n",
       "      <th>7</th>\n",
       "      <td>13.5</td>\n",
       "      <td>158720.968631</td>\n",
       "    </tr>\n",
       "    <tr>\n",
       "      <th>8</th>\n",
       "      <td>13.8</td>\n",
       "      <td>161717.510326</td>\n",
       "    </tr>\n",
       "    <tr>\n",
       "      <th>9</th>\n",
       "      <td>14.2</td>\n",
       "      <td>165712.899252</td>\n",
       "    </tr>\n",
       "  </tbody>\n",
       "</table>\n",
       "</div>"
      ],
      "text/plain": [
       "   years_experience  lm_salary_prediction\n",
       "0              10.7         130753.246146\n",
       "1              11.0         133749.787840\n",
       "2              11.4         137745.176767\n",
       "3              11.9         142739.412925\n",
       "4              12.3         146734.801852\n",
       "5              12.8         151729.038010\n",
       "6              13.1         154725.579704\n",
       "7              13.5         158720.968631\n",
       "8              13.8         161717.510326\n",
       "9              14.2         165712.899252"
      ]
     },
     "execution_count": 33,
     "metadata": {},
     "output_type": "execute_result"
    }
   ],
   "source": [
    "df_future['lm_salary_prediction'] = lm.predict(df_future.years_experience.to_frame())\n",
    "df_future"
   ]
  },
  {
   "cell_type": "markdown",
   "id": "fe25ee63",
   "metadata": {},
   "source": [
    "### Let's see what these future values look like:"
   ]
  },
  {
   "cell_type": "code",
   "execution_count": 34,
   "id": "a1f12afd",
   "metadata": {},
   "outputs": [
    {
     "data": {
      "image/png": "[encoded data removed]",
      "text/plain": [
       "<Figure size 864x576 with 1 Axes>"
      ]
     },
     "metadata": {},
     "output_type": "display_data"
    }
   ],
   "source": [
    "# creating a scatter plot with our linear regression line displayed over it\n",
    "\n",
    "plt.figure(figsize=(12,8))\n",
    "plt.plot(x_lin, y_lin, c=\"red\", label=\"Regression Line\")\n",
    "plt.scatter(x=df2_train.years_experience, y=df2_train.salary, label=\"Data\")\n",
    "plt.scatter(x=df2_test.years_experience, y=df2_test.salary, label=\"New Data\")\n",
    "plt.scatter(x=df_future.years_experience, y=df_future.lm_salary_prediction, label=\"Predicted Values\")\n",
    "plt.xlabel(\"Years of Experience\", fontsize=15)\n",
    "plt.ylabel(\"Salary (USD)\", fontsize=15)\n",
    "plt.title(\"Relationship Between Years of Experience and Salary Earned\", fontsize=15)\n",
    "plt.legend(fontsize=15)\n",
    "plt.show()"
   ]
  },
  {
   "cell_type": "markdown",
   "id": "f03db37c",
   "metadata": {},
   "source": [
    "As you can see, the predicted values land right on the line of best fit. This is why finding the line of best fit is so important without over or under fitting the model. Doing this will improve the accuracy of the predictions from the model. ***Clearly, we know the actual future values will not perfectly fit on this line, but if the model is fit well the actual values will be centered around the predicted values.***\n",
    "\n",
    "The extent to which the actual values fit around the predicted values is predicted by our confidence interval. For example, if we have a 95% confidence interval for these predictions, we can safely assume the actual values will lie within +- 5% of our predicted values. "
   ]
  },
  {
   "cell_type": "markdown",
   "id": "69bb7528",
   "metadata": {
    "scrolled": false
   },
   "source": [
    "# Let's take a look at other libraries used for Linear Regression"
   ]
  },
  {
   "cell_type": "markdown",
   "id": "13fd174f",
   "metadata": {},
   "source": [
    "#### Example of linear regression model using the statsmodels.formula method:"
   ]
  },
  {
   "cell_type": "code",
   "execution_count": 35,
   "id": "27c8dc1a",
   "metadata": {},
   "outputs": [],
   "source": [
    "import statsmodels.formula.api as smf"
   ]
  },
  {
   "cell_type": "code",
   "execution_count": 36,
   "id": "07d30381",
   "metadata": {},
   "outputs": [],
   "source": [
    "# creating a linear model using the 'ordinary least squares' from statsmodels.formula\n",
    "\n",
    "model = smf.ols(formula='salary ~ years_experience', data=df)\n",
    "\n",
    "# notice the syntax in this method - the dependent variable is written first, then a '~', then the independent variable(s)"
   ]
  },
  {
   "cell_type": "markdown",
   "id": "41ffbf43",
   "metadata": {},
   "source": [
    "For more on the syntax of this method, see the statsmodels docs for this method here - https://www.statsmodels.org/devel/generated/statsmodels.formula.api.ols.html"
   ]
  },
  {
   "cell_type": "code",
   "execution_count": 37,
   "id": "d15f7793",
   "metadata": {},
   "outputs": [],
   "source": [
    "# setting our results to the model fitted on our dataset\n",
    "\n",
    "results = model.fit()"
   ]
  },
  {
   "cell_type": "code",
   "execution_count": 38,
   "id": "459e9d14",
   "metadata": {},
   "outputs": [
    {
     "data": {
      "text/html": [
       "<table class=\"simpletable\">\n",
       "<caption>OLS Regression Results</caption>\n",
       "<tr>\n",
       "  <th>Dep. Variable:</th>         <td>salary</td>      <th>  R-squared:         </th> <td>   0.957</td>\n",
       "</tr>\n",
       "<tr>\n",
       "  <th>Model:</th>                   <td>OLS</td>       <th>  Adj. R-squared:    </th> <td>   0.955</td>\n",
       "</tr>\n",
       "<tr>\n",
       "  <th>Method:</th>             <td>Least Squares</td>  <th>  F-statistic:       </th> <td>   622.5</td>\n",
       "</tr>\n",
       "<tr>\n",
       "  <th>Date:</th>             <td>Wed, 08 Jun 2022</td> <th>  Prob (F-statistic):</th> <td>1.14e-20</td>\n",
       "</tr>\n",
       "<tr>\n",
       "  <th>Time:</th>                 <td>14:54:47</td>     <th>  Log-Likelihood:    </th> <td> -301.44</td>\n",
       "</tr>\n",
       "<tr>\n",
       "  <th>No. Observations:</th>      <td>    30</td>      <th>  AIC:               </th> <td>   606.9</td>\n",
       "</tr>\n",
       "<tr>\n",
       "  <th>Df Residuals:</th>          <td>    28</td>      <th>  BIC:               </th> <td>   609.7</td>\n",
       "</tr>\n",
       "<tr>\n",
       "  <th>Df Model:</th>              <td>     1</td>      <th>                     </th>     <td> </td>   \n",
       "</tr>\n",
       "<tr>\n",
       "  <th>Covariance Type:</th>      <td>nonrobust</td>    <th>                     </th>     <td> </td>   \n",
       "</tr>\n",
       "</table>\n",
       "<table class=\"simpletable\">\n",
       "<tr>\n",
       "          <td></td>            <th>coef</th>     <th>std err</th>      <th>t</th>      <th>P>|t|</th>  <th>[0.025</th>    <th>0.975]</th>  \n",
       "</tr>\n",
       "<tr>\n",
       "  <th>Intercept</th>        <td> 2.579e+04</td> <td> 2273.053</td> <td>   11.347</td> <td> 0.000</td> <td> 2.11e+04</td> <td> 3.04e+04</td>\n",
       "</tr>\n",
       "<tr>\n",
       "  <th>years_experience</th> <td> 9449.9623</td> <td>  378.755</td> <td>   24.950</td> <td> 0.000</td> <td> 8674.119</td> <td> 1.02e+04</td>\n",
       "</tr>\n",
       "</table>\n",
       "<table class=\"simpletable\">\n",
       "<tr>\n",
       "  <th>Omnibus:</th>       <td> 2.140</td> <th>  Durbin-Watson:     </th> <td>   1.648</td>\n",
       "</tr>\n",
       "<tr>\n",
       "  <th>Prob(Omnibus):</th> <td> 0.343</td> <th>  Jarque-Bera (JB):  </th> <td>   1.569</td>\n",
       "</tr>\n",
       "<tr>\n",
       "  <th>Skew:</th>          <td> 0.363</td> <th>  Prob(JB):          </th> <td>   0.456</td>\n",
       "</tr>\n",
       "<tr>\n",
       "  <th>Kurtosis:</th>      <td> 2.147</td> <th>  Cond. No.          </th> <td>    13.2</td>\n",
       "</tr>\n",
       "</table><br/><br/>Notes:<br/>[1] Standard Errors assume that the covariance matrix of the errors is correctly specified."
      ],
      "text/plain": [
       "<class 'statsmodels.iolib.summary.Summary'>\n",
       "\"\"\"\n",
       "                            OLS Regression Results                            \n",
       "==============================================================================\n",
       "Dep. Variable:                 salary   R-squared:                       0.957\n",
       "Model:                            OLS   Adj. R-squared:                  0.955\n",
       "Method:                 Least Squares   F-statistic:                     622.5\n",
       "Date:                Wed, 08 Jun 2022   Prob (F-statistic):           1.14e-20\n",
       "Time:                        14:54:47   Log-Likelihood:                -301.44\n",
       "No. Observations:                  30   AIC:                             606.9\n",
       "Df Residuals:                      28   BIC:                             609.7\n",
       "Df Model:                           1                                         \n",
       "Covariance Type:            nonrobust                                         \n",
       "====================================================================================\n",
       "                       coef    std err          t      P>|t|      [0.025      0.975]\n",
       "------------------------------------------------------------------------------------\n",
       "Intercept         2.579e+04   2273.053     11.347      0.000    2.11e+04    3.04e+04\n",
       "years_experience  9449.9623    378.755     24.950      0.000    8674.119    1.02e+04\n",
       "==============================================================================\n",
       "Omnibus:                        2.140   Durbin-Watson:                   1.648\n",
       "Prob(Omnibus):                  0.343   Jarque-Bera (JB):                1.569\n",
       "Skew:                           0.363   Prob(JB):                        0.456\n",
       "Kurtosis:                       2.147   Cond. No.                         13.2\n",
       "==============================================================================\n",
       "\n",
       "Notes:\n",
       "[1] Standard Errors assume that the covariance matrix of the errors is correctly specified.\n",
       "\"\"\""
      ]
     },
     "execution_count": 38,
     "metadata": {},
     "output_type": "execute_result"
    }
   ],
   "source": [
    "# printing the summary of the results of the fitted model\n",
    "\n",
    "results.summary()"
   ]
  },
  {
   "cell_type": "markdown",
   "id": "3b55f35e",
   "metadata": {},
   "source": [
    "#### Example of linear regression model using the statsmodels.api OLS method:"
   ]
  },
  {
   "cell_type": "code",
   "execution_count": 39,
   "id": "e173fd1e",
   "metadata": {},
   "outputs": [],
   "source": [
    "# importing the statsmodels.api library\n",
    "\n",
    "import statsmodels.api as sm"
   ]
  },
  {
   "cell_type": "code",
   "execution_count": 40,
   "id": "07930918",
   "metadata": {},
   "outputs": [],
   "source": [
    "# creating a copy of the data to use in our model\n",
    "\n",
    "data = df.copy()"
   ]
  },
  {
   "cell_type": "code",
   "execution_count": 41,
   "id": "1102b4ef",
   "metadata": {},
   "outputs": [],
   "source": [
    "# setting the variables for the x and y variables\n",
    "\n",
    "x = data['years_experience'].tolist()\n",
    "y = data['salary'].tolist()"
   ]
  },
  {
   "cell_type": "code",
   "execution_count": 42,
   "id": "d52fc43b",
   "metadata": {},
   "outputs": [],
   "source": [
    "# adding a constant to our model\n",
    "\n",
    "x = sm.add_constant(x)"
   ]
  },
  {
   "cell_type": "code",
   "execution_count": 43,
   "id": "2e22f79b",
   "metadata": {},
   "outputs": [],
   "source": [
    "# setting results equal to the model fitting our data\n",
    "\n",
    "result = sm.OLS(y,x).fit()"
   ]
  },
  {
   "cell_type": "code",
   "execution_count": 44,
   "id": "866e6dae",
   "metadata": {
    "scrolled": true
   },
   "outputs": [
    {
     "data": {
      "text/html": [
       "<table class=\"simpletable\">\n",
       "<caption>OLS Regression Results</caption>\n",
       "<tr>\n",
       "  <th>Dep. Variable:</th>            <td>y</td>        <th>  R-squared:         </th> <td>   0.957</td>\n",
       "</tr>\n",
       "<tr>\n",
       "  <th>Model:</th>                   <td>OLS</td>       <th>  Adj. R-squared:    </th> <td>   0.955</td>\n",
       "</tr>\n",
       "<tr>\n",
       "  <th>Method:</th>             <td>Least Squares</td>  <th>  F-statistic:       </th> <td>   622.5</td>\n",
       "</tr>\n",
       "<tr>\n",
       "  <th>Date:</th>             <td>Wed, 08 Jun 2022</td> <th>  Prob (F-statistic):</th> <td>1.14e-20</td>\n",
       "</tr>\n",
       "<tr>\n",
       "  <th>Time:</th>                 <td>14:54:47</td>     <th>  Log-Likelihood:    </th> <td> -301.44</td>\n",
       "</tr>\n",
       "<tr>\n",
       "  <th>No. Observations:</th>      <td>    30</td>      <th>  AIC:               </th> <td>   606.9</td>\n",
       "</tr>\n",
       "<tr>\n",
       "  <th>Df Residuals:</th>          <td>    28</td>      <th>  BIC:               </th> <td>   609.7</td>\n",
       "</tr>\n",
       "<tr>\n",
       "  <th>Df Model:</th>              <td>     1</td>      <th>                     </th>     <td> </td>   \n",
       "</tr>\n",
       "<tr>\n",
       "  <th>Covariance Type:</th>      <td>nonrobust</td>    <th>                     </th>     <td> </td>   \n",
       "</tr>\n",
       "</table>\n",
       "<table class=\"simpletable\">\n",
       "<tr>\n",
       "    <td></td>       <th>coef</th>     <th>std err</th>      <th>t</th>      <th>P>|t|</th>  <th>[0.025</th>    <th>0.975]</th>  \n",
       "</tr>\n",
       "<tr>\n",
       "  <th>const</th> <td> 2.579e+04</td> <td> 2273.053</td> <td>   11.347</td> <td> 0.000</td> <td> 2.11e+04</td> <td> 3.04e+04</td>\n",
       "</tr>\n",
       "<tr>\n",
       "  <th>x1</th>    <td> 9449.9623</td> <td>  378.755</td> <td>   24.950</td> <td> 0.000</td> <td> 8674.119</td> <td> 1.02e+04</td>\n",
       "</tr>\n",
       "</table>\n",
       "<table class=\"simpletable\">\n",
       "<tr>\n",
       "  <th>Omnibus:</th>       <td> 2.140</td> <th>  Durbin-Watson:     </th> <td>   1.648</td>\n",
       "</tr>\n",
       "<tr>\n",
       "  <th>Prob(Omnibus):</th> <td> 0.343</td> <th>  Jarque-Bera (JB):  </th> <td>   1.569</td>\n",
       "</tr>\n",
       "<tr>\n",
       "  <th>Skew:</th>          <td> 0.363</td> <th>  Prob(JB):          </th> <td>   0.456</td>\n",
       "</tr>\n",
       "<tr>\n",
       "  <th>Kurtosis:</th>      <td> 2.147</td> <th>  Cond. No.          </th> <td>    13.2</td>\n",
       "</tr>\n",
       "</table><br/><br/>Notes:<br/>[1] Standard Errors assume that the covariance matrix of the errors is correctly specified."
      ],
      "text/plain": [
       "<class 'statsmodels.iolib.summary.Summary'>\n",
       "\"\"\"\n",
       "                            OLS Regression Results                            \n",
       "==============================================================================\n",
       "Dep. Variable:                      y   R-squared:                       0.957\n",
       "Model:                            OLS   Adj. R-squared:                  0.955\n",
       "Method:                 Least Squares   F-statistic:                     622.5\n",
       "Date:                Wed, 08 Jun 2022   Prob (F-statistic):           1.14e-20\n",
       "Time:                        14:54:47   Log-Likelihood:                -301.44\n",
       "No. Observations:                  30   AIC:                             606.9\n",
       "Df Residuals:                      28   BIC:                             609.7\n",
       "Df Model:                           1                                         \n",
       "Covariance Type:            nonrobust                                         \n",
       "==============================================================================\n",
       "                 coef    std err          t      P>|t|      [0.025      0.975]\n",
       "------------------------------------------------------------------------------\n",
       "const       2.579e+04   2273.053     11.347      0.000    2.11e+04    3.04e+04\n",
       "x1          9449.9623    378.755     24.950      0.000    8674.119    1.02e+04\n",
       "==============================================================================\n",
       "Omnibus:                        2.140   Durbin-Watson:                   1.648\n",
       "Prob(Omnibus):                  0.343   Jarque-Bera (JB):                1.569\n",
       "Skew:                           0.363   Prob(JB):                        0.456\n",
       "Kurtosis:                       2.147   Cond. No.                         13.2\n",
       "==============================================================================\n",
       "\n",
       "Notes:\n",
       "[1] Standard Errors assume that the covariance matrix of the errors is correctly specified.\n",
       "\"\"\""
      ]
     },
     "execution_count": 44,
     "metadata": {},
     "output_type": "execute_result"
    }
   ],
   "source": [
    "# displaying a summary of the results from the model\n",
    "\n",
    "result.summary()"
   ]
  },
  {
   "cell_type": "markdown",
   "id": "152c391d",
   "metadata": {},
   "source": [
    "## We'll briefly cover a few of the important results from the summary outputs of the models here:\n",
    "\n",
    "1. **R-Squared** - This number tells you to what extent the model can explain the changes in the dependent variable. For example, an r-squared of 0.803 would mean the model can explain 80.2% of the changes in the dependent variable. The closer the R-squared value is to 1, the more accurate the model. ***However - too high of an r-squared value could mean the value is over-fitted*** Thus, if you get a very high r-squared, check the model with more training data if possible to ensure the model is accurate but wasn't over-fit. A very high r-squared value could also be an indicator of multicollinearity (see #6).   \n",
    "<br></br>\n",
    "2. **Adjusted r-squared** - This is R-squared, but will be an aggregate of any independent variables in a multivariate model. Because it is an aggregate number, it can be misleading in a multivariate model when showing a high adjusted r-squared even when the r-squared values for individual variables would be low.  \n",
    "<br></br>\n",
    "3. **Prob (F statistic)** - Similar to a P-value, this is a measure of statistical significance. The smaller the number, the more likely it is we can reject the null hypothesis and assume the results are statistically significant.   \n",
    "<br></br>\n",
    "4. **P>|t|** - this is the P-Value. Generally, any number ***under 0.05*** means the results are likely to be statistically significant and we can reject the null hypothesis. (Remember: the null hypothesis is ***always*** that the variables are NOT correlated and have no relationship. If we can reject the null hypothesis, it would mean we could consider our hypothesis that two variables **are** related instead).   \n",
    "<br></br>\n",
    "5. **Kurtosis** - The higher the number displayed here, the fewer outliers were detected in the dataset.  \n",
    "<br></br>\n",
    "6. **Durbin-Watson** - We want this number to be between 1 and 2. Durbin-Watson tests for multi-collinearity. If multi-collinearity is present, it will skew the model. Multicollinearity occurs when we use predictor variables which are highly correlated to each other. You can read more about multicollinearity here - https://www.statisticshowto.com/multicollinearity/. \n",
    "<br></br>\n",
    "\n",
    "#####  Visit this link for a more in-depth article on how to interpret the results in these summaries - https://medium.com/swlh/interpreting-linear-regression-through-statsmodels-summary-4796d359035a"
   ]
  },
  {
   "cell_type": "markdown",
   "id": "459c222f",
   "metadata": {},
   "source": [
    "### Example of the pearsonr output and seaborn regression plot of our data:"
   ]
  },
  {
   "cell_type": "code",
   "execution_count": 45,
   "id": "1b8b9215",
   "metadata": {},
   "outputs": [],
   "source": [
    "# importing the pearsonr method\n",
    "\n",
    "from scipy.stats import pearsonr"
   ]
  },
  {
   "cell_type": "code",
   "execution_count": 46,
   "id": "267839b5",
   "metadata": {},
   "outputs": [
    {
     "data": {
      "text/plain": [
       "(0.9782416184887598, 1.143068109227237e-20)"
      ]
     },
     "execution_count": 46,
     "metadata": {},
     "output_type": "execute_result"
    }
   ],
   "source": [
    "# running the pearsonr method on the data in our dataset\n",
    "\n",
    "pearsonr(df.years_experience, df.salary)"
   ]
  },
  {
   "cell_type": "markdown",
   "id": "819194ab",
   "metadata": {},
   "source": [
    "Based on this output, you see the correlation coefficient between the two variables is 0.978 with a p-value of .0000000000000000000143. "
   ]
  },
  {
   "cell_type": "markdown",
   "id": "f6d84139",
   "metadata": {},
   "source": [
    ">#### Note: This dataset is mock data for review purposes. In real datasets, actual values would likely be more varied. The correlation coefficient, R-squared values, and P-values would likely look much less \"perfect\" than they do in these scenarios with the mock data."
   ]
  },
  {
   "cell_type": "markdown",
   "id": "01e2317a",
   "metadata": {},
   "source": [
    "### Seaborn regression plot:"
   ]
  },
  {
   "cell_type": "code",
   "execution_count": 47,
   "id": "cecea940",
   "metadata": {
    "scrolled": true
   },
   "outputs": [
    {
     "data": {
      "text/plain": [
       "<AxesSubplot:xlabel='years_experience', ylabel='salary'>"
      ]
     },
     "execution_count": 47,
     "metadata": {},
     "output_type": "execute_result"
    },
    {
     "data": {
      "image/png": "[encoded data removed]",
      "text/plain": [
       "<Figure size 576x396 with 1 Axes>"
      ]
     },
     "metadata": {},
     "output_type": "display_data"
    }
   ],
   "source": [
    "# creating a regression plot in seaborn using the .regplot() metho\n",
    "\n",
    "sns.regplot(x=df.years_experience, y=df.salary)"
   ]
  },
  {
   "cell_type": "markdown",
   "id": "6d022808",
   "metadata": {},
   "source": [
    "As shown above, Seaborn has a great method - .regplot() - to easily plot a scatter plot with a regression line and confidence interval band (the light blue band to the sides of the regression line). This would be the start of a great visualization of your linear regression model. It can also be used during exploratory data analysis (EDA) to quickly look for the strength of linear relationships before building a linear regression model. \n",
    "\n",
    "***For more on visualizing regression models in Seaborn, see their documentation here -*** https://seaborn.pydata.org/tutorial/regression.html"
   ]
  }
 ],
 "metadata": {
  "kernelspec": {
   "display_name": "Python 3 (ipykernel)",
   "language": "python",
   "name": "python3"
  },
  "language_info": {
   "codemirror_mode": {
    "name": "ipython",
    "version": 3
   },
   "file_extension": ".py",
   "mimetype": "text/x-python",
   "name": "python",
   "nbconvert_exporter": "python",
   "pygments_lexer": "ipython3",
   "version": "3.7.13"
  }
 },
 "nbformat": 4,
 "nbformat_minor": 5
}
