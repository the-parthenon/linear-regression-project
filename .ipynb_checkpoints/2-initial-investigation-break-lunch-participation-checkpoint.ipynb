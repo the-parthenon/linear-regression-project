{
 "cells": [
  {
   "cell_type": "code",
   "execution_count": 1,
   "id": "f12fa9f9",
   "metadata": {},
   "outputs": [],
   "source": [
    "import pandas as pd\n",
    "import matplotlib as plt\n",
    "%matplotlib inline"
   ]
  },
  {
   "cell_type": "markdown",
   "id": "e6e0b57c",
   "metadata": {},
   "source": [
    "#### Breakfast Participation Data Exploration"
   ]
  },
  {
   "cell_type": "code",
   "execution_count": null,
   "id": "1de4001d",
   "metadata": {},
   "outputs": [],
   "source": [
    "breakfast = pd.read_excel('datasets/sbsummar.xls', header = None, skiprows=5, skipfooter=4, index_col=0,\n",
    "                          names= ['year', 'free', 'red_price', 'paid', 'total_breakfast', 'meals_served', 'free_rp_percent_of_total'])\n",
    "breakfast.head(10)"
   ]
  },
  {
   "cell_type": "code",
   "execution_count": 3,
   "id": "fa36cccd",
   "metadata": {},
   "outputs": [
    {
     "data": {
      "text/html": [
       "<div>\n",
       "<style scoped>\n",
       "    .dataframe tbody tr th:only-of-type {\n",
       "        vertical-align: middle;\n",
       "    }\n",
       "\n",
       "    .dataframe tbody tr th {\n",
       "        vertical-align: top;\n",
       "    }\n",
       "\n",
       "    .dataframe thead th {\n",
       "        text-align: right;\n",
       "    }\n",
       "</style>\n",
       "<table border=\"1\" class=\"dataframe\">\n",
       "  <thead>\n",
       "    <tr style=\"text-align: right;\">\n",
       "      <th></th>\n",
       "      <th>free</th>\n",
       "      <th>red_price</th>\n",
       "      <th>paid</th>\n",
       "      <th>total_breakfast</th>\n",
       "      <th>meals_served</th>\n",
       "      <th>free_rp_percent_of_total</th>\n",
       "    </tr>\n",
       "    <tr>\n",
       "      <th>year</th>\n",
       "      <th></th>\n",
       "      <th></th>\n",
       "      <th></th>\n",
       "      <th></th>\n",
       "      <th></th>\n",
       "      <th></th>\n",
       "    </tr>\n",
       "  </thead>\n",
       "  <tbody>\n",
       "    <tr>\n",
       "      <th>2011</th>\n",
       "      <td>9.2</td>\n",
       "      <td>0.98</td>\n",
       "      <td>2</td>\n",
       "      <td>12.17</td>\n",
       "      <td>2048.09</td>\n",
       "      <td>83.7</td>\n",
       "    </tr>\n",
       "    <tr>\n",
       "      <th>2012</th>\n",
       "      <td>9.77</td>\n",
       "      <td>1.04</td>\n",
       "      <td>2.05</td>\n",
       "      <td>12.87</td>\n",
       "      <td>2145.03</td>\n",
       "      <td>84.2</td>\n",
       "    </tr>\n",
       "    <tr>\n",
       "      <th>2013</th>\n",
       "      <td>10.16</td>\n",
       "      <td>1.02</td>\n",
       "      <td>2.02</td>\n",
       "      <td>13.20</td>\n",
       "      <td>2222.98</td>\n",
       "      <td>84.8</td>\n",
       "    </tr>\n",
       "    <tr>\n",
       "      <th>2014</th>\n",
       "      <td>10.54</td>\n",
       "      <td>1.01</td>\n",
       "      <td>2.08</td>\n",
       "      <td>13.64</td>\n",
       "      <td>2273.53</td>\n",
       "      <td>84.9</td>\n",
       "    </tr>\n",
       "    <tr>\n",
       "      <th>2015</th>\n",
       "      <td>11.09</td>\n",
       "      <td>0.9</td>\n",
       "      <td>2.1</td>\n",
       "      <td>14.09</td>\n",
       "      <td>2334.36</td>\n",
       "      <td>85.2</td>\n",
       "    </tr>\n",
       "  </tbody>\n",
       "</table>\n",
       "</div>"
      ],
      "text/plain": [
       "       free red_price  paid  total_breakfast  meals_served  \\\n",
       "year                                                         \n",
       "2011    9.2      0.98     2            12.17       2048.09   \n",
       "2012   9.77      1.04  2.05            12.87       2145.03   \n",
       "2013  10.16      1.02  2.02            13.20       2222.98   \n",
       "2014  10.54      1.01  2.08            13.64       2273.53   \n",
       "2015  11.09       0.9   2.1            14.09       2334.36   \n",
       "\n",
       "      free_rp_percent_of_total  \n",
       "year                            \n",
       "2011                      83.7  \n",
       "2012                      84.2  \n",
       "2013                      84.8  \n",
       "2014                      84.9  \n",
       "2015                      85.2  "
      ]
     },
     "execution_count": 3,
     "metadata": {},
     "output_type": "execute_result"
    }
   ],
   "source": [
    "breakfast.tail()"
   ]
  },
  {
   "cell_type": "code",
   "execution_count": 4,
   "id": "208c6880",
   "metadata": {},
   "outputs": [
    {
     "name": "stdout",
     "output_type": "stream",
     "text": [
      "<class 'pandas.core.frame.DataFrame'>\n",
      "Int64Index: 47 entries, 1969 to 2015\n",
      "Data columns (total 6 columns):\n",
      " #   Column                    Non-Null Count  Dtype  \n",
      "---  ------                    --------------  -----  \n",
      " 0   free                      47 non-null     object \n",
      " 1   red_price                 47 non-null     object \n",
      " 2   paid                      47 non-null     object \n",
      " 3   total_breakfast           47 non-null     float64\n",
      " 4   meals_served              47 non-null     float64\n",
      " 5   free_rp_percent_of_total  47 non-null     float64\n",
      "dtypes: float64(3), object(3)\n",
      "memory usage: 2.6+ KB\n"
     ]
    }
   ],
   "source": [
    "breakfast.info()"
   ]
  },
  {
   "cell_type": "markdown",
   "id": "b0ed1980",
   "metadata": {},
   "source": [
    "#### Initial Cleaning\n",
    "\n",
    "The columns for \"free\", \"red_price\" and \"paid\" will all need to have some values (\"--\" and \"2]\") replaced with zeroes and then converted to floats.  I miss it until much later in the investigation, but we should also consider dropping the years 1969 and 1970 from our investigation altogether, as we don't have the relevant data regarding the amount of free/reduced participation (though it's likely we could calculate a total from the `free_rp_percent_of_total` column."
   ]
  },
  {
   "cell_type": "code",
   "execution_count": 5,
   "id": "f4285513",
   "metadata": {},
   "outputs": [
    {
     "data": {
      "text/html": [
       "<div>\n",
       "<style scoped>\n",
       "    .dataframe tbody tr th:only-of-type {\n",
       "        vertical-align: middle;\n",
       "    }\n",
       "\n",
       "    .dataframe tbody tr th {\n",
       "        vertical-align: top;\n",
       "    }\n",
       "\n",
       "    .dataframe thead th {\n",
       "        text-align: right;\n",
       "    }\n",
       "</style>\n",
       "<table border=\"1\" class=\"dataframe\">\n",
       "  <thead>\n",
       "    <tr style=\"text-align: right;\">\n",
       "      <th></th>\n",
       "      <th>free</th>\n",
       "      <th>red_price</th>\n",
       "      <th>paid</th>\n",
       "      <th>total_breakfast</th>\n",
       "      <th>meals_served</th>\n",
       "      <th>free_rp_percent_of_total</th>\n",
       "    </tr>\n",
       "    <tr>\n",
       "      <th>year</th>\n",
       "      <th></th>\n",
       "      <th></th>\n",
       "      <th></th>\n",
       "      <th></th>\n",
       "      <th></th>\n",
       "      <th></th>\n",
       "    </tr>\n",
       "  </thead>\n",
       "  <tbody>\n",
       "    <tr>\n",
       "      <th>1969</th>\n",
       "      <td>0.00</td>\n",
       "      <td>0.00</td>\n",
       "      <td>0.00</td>\n",
       "      <td>0.22</td>\n",
       "      <td>39.7</td>\n",
       "      <td>71.0</td>\n",
       "    </tr>\n",
       "    <tr>\n",
       "      <th>1970</th>\n",
       "      <td>0.00</td>\n",
       "      <td>0.00</td>\n",
       "      <td>0.00</td>\n",
       "      <td>0.45</td>\n",
       "      <td>71.8</td>\n",
       "      <td>71.5</td>\n",
       "    </tr>\n",
       "    <tr>\n",
       "      <th>1971</th>\n",
       "      <td>0.60</td>\n",
       "      <td>0.00</td>\n",
       "      <td>0.20</td>\n",
       "      <td>0.80</td>\n",
       "      <td>125.5</td>\n",
       "      <td>76.3</td>\n",
       "    </tr>\n",
       "    <tr>\n",
       "      <th>1972</th>\n",
       "      <td>0.81</td>\n",
       "      <td>0.00</td>\n",
       "      <td>0.23</td>\n",
       "      <td>1.04</td>\n",
       "      <td>169.3</td>\n",
       "      <td>78.5</td>\n",
       "    </tr>\n",
       "    <tr>\n",
       "      <th>1973</th>\n",
       "      <td>0.99</td>\n",
       "      <td>0.00</td>\n",
       "      <td>0.20</td>\n",
       "      <td>1.19</td>\n",
       "      <td>194.1</td>\n",
       "      <td>83.4</td>\n",
       "    </tr>\n",
       "    <tr>\n",
       "      <th>1974</th>\n",
       "      <td>1.14</td>\n",
       "      <td>0.00</td>\n",
       "      <td>0.24</td>\n",
       "      <td>1.37</td>\n",
       "      <td>226.7</td>\n",
       "      <td>82.8</td>\n",
       "    </tr>\n",
       "    <tr>\n",
       "      <th>1975</th>\n",
       "      <td>1.45</td>\n",
       "      <td>0.04</td>\n",
       "      <td>0.33</td>\n",
       "      <td>1.82</td>\n",
       "      <td>294.7</td>\n",
       "      <td>82.1</td>\n",
       "    </tr>\n",
       "    <tr>\n",
       "      <th>1976</th>\n",
       "      <td>1.76</td>\n",
       "      <td>0.06</td>\n",
       "      <td>0.37</td>\n",
       "      <td>2.20</td>\n",
       "      <td>353.6</td>\n",
       "      <td>84.2</td>\n",
       "    </tr>\n",
       "    <tr>\n",
       "      <th>1977</th>\n",
       "      <td>2.02</td>\n",
       "      <td>0.11</td>\n",
       "      <td>0.36</td>\n",
       "      <td>2.49</td>\n",
       "      <td>434.3</td>\n",
       "      <td>85.7</td>\n",
       "    </tr>\n",
       "    <tr>\n",
       "      <th>1978</th>\n",
       "      <td>2.23</td>\n",
       "      <td>0.16</td>\n",
       "      <td>0.42</td>\n",
       "      <td>2.80</td>\n",
       "      <td>478.8</td>\n",
       "      <td>85.3</td>\n",
       "    </tr>\n",
       "  </tbody>\n",
       "</table>\n",
       "</div>"
      ],
      "text/plain": [
       "      free  red_price  paid  total_breakfast  meals_served  \\\n",
       "year                                                         \n",
       "1969  0.00       0.00  0.00             0.22          39.7   \n",
       "1970  0.00       0.00  0.00             0.45          71.8   \n",
       "1971  0.60       0.00  0.20             0.80         125.5   \n",
       "1972  0.81       0.00  0.23             1.04         169.3   \n",
       "1973  0.99       0.00  0.20             1.19         194.1   \n",
       "1974  1.14       0.00  0.24             1.37         226.7   \n",
       "1975  1.45       0.04  0.33             1.82         294.7   \n",
       "1976  1.76       0.06  0.37             2.20         353.6   \n",
       "1977  2.02       0.11  0.36             2.49         434.3   \n",
       "1978  2.23       0.16  0.42             2.80         478.8   \n",
       "\n",
       "      free_rp_percent_of_total  \n",
       "year                            \n",
       "1969                      71.0  \n",
       "1970                      71.5  \n",
       "1971                      76.3  \n",
       "1972                      78.5  \n",
       "1973                      83.4  \n",
       "1974                      82.8  \n",
       "1975                      82.1  \n",
       "1976                      84.2  \n",
       "1977                      85.7  \n",
       "1978                      85.3  "
      ]
     },
     "execution_count": 5,
     "metadata": {},
     "output_type": "execute_result"
    }
   ],
   "source": [
    "breakfast.replace(to_replace=('--', '2]'), value=0, inplace=True)\n",
    "breakfast.head(10)"
   ]
  },
  {
   "cell_type": "code",
   "execution_count": 6,
   "id": "84b379fe",
   "metadata": {},
   "outputs": [
    {
     "name": "stdout",
     "output_type": "stream",
     "text": [
      "<class 'pandas.core.frame.DataFrame'>\n",
      "Int64Index: 47 entries, 1969 to 2015\n",
      "Data columns (total 6 columns):\n",
      " #   Column                    Non-Null Count  Dtype  \n",
      "---  ------                    --------------  -----  \n",
      " 0   free                      47 non-null     float64\n",
      " 1   red_price                 47 non-null     float64\n",
      " 2   paid                      47 non-null     float64\n",
      " 3   total_breakfast           47 non-null     float64\n",
      " 4   meals_served              47 non-null     float64\n",
      " 5   free_rp_percent_of_total  47 non-null     float64\n",
      "dtypes: float64(6)\n",
      "memory usage: 2.6 KB\n"
     ]
    }
   ],
   "source": [
    "breakfast.red_price = breakfast.red_price.astype(dtype='float64')\n",
    "breakfast.free = breakfast.free.astype(dtype='float64')\n",
    "breakfast.paid = breakfast.paid.astype(dtype='float64')\n",
    "breakfast.info()"
   ]
  },
  {
   "cell_type": "code",
   "execution_count": 7,
   "id": "03b39217",
   "metadata": {},
   "outputs": [
    {
     "data": {
      "text/html": [
       "<div>\n",
       "<style scoped>\n",
       "    .dataframe tbody tr th:only-of-type {\n",
       "        vertical-align: middle;\n",
       "    }\n",
       "\n",
       "    .dataframe tbody tr th {\n",
       "        vertical-align: top;\n",
       "    }\n",
       "\n",
       "    .dataframe thead th {\n",
       "        text-align: right;\n",
       "    }\n",
       "</style>\n",
       "<table border=\"1\" class=\"dataframe\">\n",
       "  <thead>\n",
       "    <tr style=\"text-align: right;\">\n",
       "      <th></th>\n",
       "      <th>free</th>\n",
       "      <th>red_price</th>\n",
       "      <th>paid</th>\n",
       "      <th>total_breakfast</th>\n",
       "      <th>meals_served</th>\n",
       "      <th>free_rp_percent_of_total</th>\n",
       "    </tr>\n",
       "  </thead>\n",
       "  <tbody>\n",
       "    <tr>\n",
       "      <th>count</th>\n",
       "      <td>47.000000</td>\n",
       "      <td>47.000000</td>\n",
       "      <td>47.000000</td>\n",
       "      <td>47.000000</td>\n",
       "      <td>47.000000</td>\n",
       "      <td>47.000000</td>\n",
       "    </tr>\n",
       "    <tr>\n",
       "      <th>mean</th>\n",
       "      <td>4.605745</td>\n",
       "      <td>0.434255</td>\n",
       "      <td>0.936596</td>\n",
       "      <td>5.991489</td>\n",
       "      <td>1018.980851</td>\n",
       "      <td>84.325532</td>\n",
       "    </tr>\n",
       "    <tr>\n",
       "      <th>std</th>\n",
       "      <td>2.902470</td>\n",
       "      <td>0.369634</td>\n",
       "      <td>0.687118</td>\n",
       "      <td>3.904807</td>\n",
       "      <td>656.555349</td>\n",
       "      <td>4.031586</td>\n",
       "    </tr>\n",
       "    <tr>\n",
       "      <th>min</th>\n",
       "      <td>0.000000</td>\n",
       "      <td>0.000000</td>\n",
       "      <td>0.000000</td>\n",
       "      <td>0.220000</td>\n",
       "      <td>39.700000</td>\n",
       "      <td>71.000000</td>\n",
       "    </tr>\n",
       "    <tr>\n",
       "      <th>25%</th>\n",
       "      <td>2.795000</td>\n",
       "      <td>0.160000</td>\n",
       "      <td>0.385000</td>\n",
       "      <td>3.340000</td>\n",
       "      <td>574.050000</td>\n",
       "      <td>82.800000</td>\n",
       "    </tr>\n",
       "    <tr>\n",
       "      <th>50%</th>\n",
       "      <td>4.050000</td>\n",
       "      <td>0.260000</td>\n",
       "      <td>0.610000</td>\n",
       "      <td>4.920000</td>\n",
       "      <td>852.430000</td>\n",
       "      <td>84.900000</td>\n",
       "    </tr>\n",
       "    <tr>\n",
       "      <th>75%</th>\n",
       "      <td>6.370000</td>\n",
       "      <td>0.770000</td>\n",
       "      <td>1.525000</td>\n",
       "      <td>8.665000</td>\n",
       "      <td>1486.405000</td>\n",
       "      <td>86.850000</td>\n",
       "    </tr>\n",
       "    <tr>\n",
       "      <th>max</th>\n",
       "      <td>11.090000</td>\n",
       "      <td>1.070000</td>\n",
       "      <td>2.100000</td>\n",
       "      <td>14.090000</td>\n",
       "      <td>2334.360000</td>\n",
       "      <td>90.300000</td>\n",
       "    </tr>\n",
       "  </tbody>\n",
       "</table>\n",
       "</div>"
      ],
      "text/plain": [
       "            free  red_price       paid  total_breakfast  meals_served  \\\n",
       "count  47.000000  47.000000  47.000000        47.000000     47.000000   \n",
       "mean    4.605745   0.434255   0.936596         5.991489   1018.980851   \n",
       "std     2.902470   0.369634   0.687118         3.904807    656.555349   \n",
       "min     0.000000   0.000000   0.000000         0.220000     39.700000   \n",
       "25%     2.795000   0.160000   0.385000         3.340000    574.050000   \n",
       "50%     4.050000   0.260000   0.610000         4.920000    852.430000   \n",
       "75%     6.370000   0.770000   1.525000         8.665000   1486.405000   \n",
       "max    11.090000   1.070000   2.100000        14.090000   2334.360000   \n",
       "\n",
       "       free_rp_percent_of_total  \n",
       "count                 47.000000  \n",
       "mean                  84.325532  \n",
       "std                    4.031586  \n",
       "min                   71.000000  \n",
       "25%                   82.800000  \n",
       "50%                   84.900000  \n",
       "75%                   86.850000  \n",
       "max                   90.300000  "
      ]
     },
     "execution_count": 7,
     "metadata": {},
     "output_type": "execute_result"
    }
   ],
   "source": [
    "breakfast.describe()"
   ]
  },
  {
   "cell_type": "code",
   "execution_count": 8,
   "id": "140f70c4",
   "metadata": {},
   "outputs": [
    {
     "data": {
      "image/png": "[encoded data removed]",
      "text/plain": [
       "<Figure size 1152x720 with 6 Axes>"
      ]
     },
     "metadata": {
      "needs_background": "light"
     },
     "output_type": "display_data"
    }
   ],
   "source": [
    "ax = breakfast.drop(labels=(['free_rp_percent_of_total']), axis=1).plot(subplots=True, layout=(3, 2), figsize=(16, 10))"
   ]
  },
  {
   "cell_type": "markdown",
   "id": "00a77e3f",
   "metadata": {},
   "source": [
    "By combining the line charts for the \"free,\" \"reduced price\" and \"paid\" values, we can see pretty clearly that the majority of kids getting breakfast at school are doing so under the free or reduced price programs."
   ]
  },
  {
   "cell_type": "code",
   "execution_count": 36,
   "id": "e98a9096",
   "metadata": {},
   "outputs": [
    {
     "data": {
      "image/png": "[encoded data removed]",
      "text/plain": [
       "<Figure size 864x576 with 1 Axes>"
      ]
     },
     "metadata": {
      "needs_background": "light"
     },
     "output_type": "display_data"
    }
   ],
   "source": [
    "ax = breakfast.iloc[:, [0, 1, 2]].plot(figsize = (12, 8))"
   ]
  },
  {
   "cell_type": "markdown",
   "id": "e1e40d11",
   "metadata": {},
   "source": [
    "####  Checking for Outliers"
   ]
  },
  {
   "cell_type": "code",
   "execution_count": 9,
   "id": "f670424c",
   "metadata": {},
   "outputs": [
    {
     "data": {
      "image/png": "[encoded data removed]",
      "text/plain": [
       "<Figure size 864x576 with 6 Axes>"
      ]
     },
     "metadata": {
      "needs_background": "light"
     },
     "output_type": "display_data"
    }
   ],
   "source": [
    "ax = breakfast.drop('free_rp_percent_of_total', axis=1).plot.box(subplots=True, layout =(2, 3), figsize=(12, 8))"
   ]
  },
  {
   "cell_type": "markdown",
   "id": "943d2fd1",
   "metadata": {},
   "source": [
    "No notable outliers are detected, and the data set is relatively clean, so we export the data and move on to the lunch numbers."
   ]
  },
  {
   "cell_type": "code",
   "execution_count": 10,
   "id": "d633816f",
   "metadata": {},
   "outputs": [],
   "source": [
    "breakfast.to_csv('datasets/breakfast_processed.csv')"
   ]
  },
  {
   "cell_type": "markdown",
   "id": "483a15db",
   "metadata": {},
   "source": [
    "#### Lunch Participation Data Exploration"
   ]
  },
  {
   "cell_type": "code",
   "execution_count": 11,
   "id": "196e8bbe",
   "metadata": {},
   "outputs": [
    {
     "data": {
      "text/html": [
       "<div>\n",
       "<style scoped>\n",
       "    .dataframe tbody tr th:only-of-type {\n",
       "        vertical-align: middle;\n",
       "    }\n",
       "\n",
       "    .dataframe tbody tr th {\n",
       "        vertical-align: top;\n",
       "    }\n",
       "\n",
       "    .dataframe thead th {\n",
       "        text-align: right;\n",
       "    }\n",
       "</style>\n",
       "<table border=\"1\" class=\"dataframe\">\n",
       "  <thead>\n",
       "    <tr style=\"text-align: right;\">\n",
       "      <th></th>\n",
       "      <th>free</th>\n",
       "      <th>red_price</th>\n",
       "      <th>paid</th>\n",
       "      <th>total_lunch</th>\n",
       "      <th>meals_served</th>\n",
       "      <th>free_rp_percent_of_total</th>\n",
       "    </tr>\n",
       "    <tr>\n",
       "      <th>year</th>\n",
       "      <th></th>\n",
       "      <th></th>\n",
       "      <th></th>\n",
       "      <th></th>\n",
       "      <th></th>\n",
       "      <th></th>\n",
       "    </tr>\n",
       "  </thead>\n",
       "  <tbody>\n",
       "    <tr>\n",
       "      <th>1969</th>\n",
       "      <td>2.9</td>\n",
       "      <td>1]</td>\n",
       "      <td>16.5</td>\n",
       "      <td>19.4</td>\n",
       "      <td>3368.2</td>\n",
       "      <td>15.1</td>\n",
       "    </tr>\n",
       "    <tr>\n",
       "      <th>1970</th>\n",
       "      <td>4.6</td>\n",
       "      <td>1]</td>\n",
       "      <td>17.8</td>\n",
       "      <td>22.4</td>\n",
       "      <td>3565.1</td>\n",
       "      <td>20.7</td>\n",
       "    </tr>\n",
       "    <tr>\n",
       "      <th>1971</th>\n",
       "      <td>5.8</td>\n",
       "      <td>0.5</td>\n",
       "      <td>17.8</td>\n",
       "      <td>24.1</td>\n",
       "      <td>3848.3</td>\n",
       "      <td>26.1</td>\n",
       "    </tr>\n",
       "    <tr>\n",
       "      <th>1972</th>\n",
       "      <td>7.3</td>\n",
       "      <td>0.5</td>\n",
       "      <td>16.6</td>\n",
       "      <td>24.4</td>\n",
       "      <td>3972.1</td>\n",
       "      <td>32.4</td>\n",
       "    </tr>\n",
       "    <tr>\n",
       "      <th>1973</th>\n",
       "      <td>8.1</td>\n",
       "      <td>0.5</td>\n",
       "      <td>16.1</td>\n",
       "      <td>24.7</td>\n",
       "      <td>4008.8</td>\n",
       "      <td>35.0</td>\n",
       "    </tr>\n",
       "    <tr>\n",
       "      <th>1974</th>\n",
       "      <td>8.6</td>\n",
       "      <td>0.5</td>\n",
       "      <td>15.5</td>\n",
       "      <td>24.6</td>\n",
       "      <td>3981.6</td>\n",
       "      <td>37.1</td>\n",
       "    </tr>\n",
       "    <tr>\n",
       "      <th>1975</th>\n",
       "      <td>9.4</td>\n",
       "      <td>0.6</td>\n",
       "      <td>14.9</td>\n",
       "      <td>24.9</td>\n",
       "      <td>4063.0</td>\n",
       "      <td>40.3</td>\n",
       "    </tr>\n",
       "    <tr>\n",
       "      <th>1976</th>\n",
       "      <td>10.2</td>\n",
       "      <td>0.8</td>\n",
       "      <td>14.6</td>\n",
       "      <td>25.6</td>\n",
       "      <td>4147.9</td>\n",
       "      <td>43.1</td>\n",
       "    </tr>\n",
       "    <tr>\n",
       "      <th>1977</th>\n",
       "      <td>10.5</td>\n",
       "      <td>1.3</td>\n",
       "      <td>14.5</td>\n",
       "      <td>26.2</td>\n",
       "      <td>4250.0</td>\n",
       "      <td>44.8</td>\n",
       "    </tr>\n",
       "    <tr>\n",
       "      <th>1978</th>\n",
       "      <td>10.3</td>\n",
       "      <td>1.5</td>\n",
       "      <td>14.9</td>\n",
       "      <td>26.7</td>\n",
       "      <td>4294.1</td>\n",
       "      <td>44.4</td>\n",
       "    </tr>\n",
       "  </tbody>\n",
       "</table>\n",
       "</div>"
      ],
      "text/plain": [
       "      free red_price  paid  total_lunch  meals_served  \\\n",
       "year                                                    \n",
       "1969   2.9       1]   16.5         19.4        3368.2   \n",
       "1970   4.6       1]   17.8         22.4        3565.1   \n",
       "1971   5.8       0.5  17.8         24.1        3848.3   \n",
       "1972   7.3       0.5  16.6         24.4        3972.1   \n",
       "1973   8.1       0.5  16.1         24.7        4008.8   \n",
       "1974   8.6       0.5  15.5         24.6        3981.6   \n",
       "1975   9.4       0.6  14.9         24.9        4063.0   \n",
       "1976  10.2       0.8  14.6         25.6        4147.9   \n",
       "1977  10.5       1.3  14.5         26.2        4250.0   \n",
       "1978  10.3       1.5  14.9         26.7        4294.1   \n",
       "\n",
       "      free_rp_percent_of_total  \n",
       "year                            \n",
       "1969                      15.1  \n",
       "1970                      20.7  \n",
       "1971                      26.1  \n",
       "1972                      32.4  \n",
       "1973                      35.0  \n",
       "1974                      37.1  \n",
       "1975                      40.3  \n",
       "1976                      43.1  \n",
       "1977                      44.8  \n",
       "1978                      44.4  "
      ]
     },
     "execution_count": 11,
     "metadata": {},
     "output_type": "execute_result"
    }
   ],
   "source": [
    "lunch = pd.read_excel('datasets/slsummar.xls', header=None, skiprows=6, skipfooter=4, index_col=0,\n",
    "                      names = [ 'year', 'free', 'red_price', 'paid', 'total_lunch', 'meals_served', 'free_rp_percent_of_total'])\n",
    "lunch.head(10)"
   ]
  },
  {
   "cell_type": "code",
   "execution_count": 12,
   "id": "fa66a564",
   "metadata": {},
   "outputs": [
    {
     "name": "stdout",
     "output_type": "stream",
     "text": [
      "<class 'pandas.core.frame.DataFrame'>\n",
      "Int64Index: 47 entries, 1969 to 2015\n",
      "Data columns (total 6 columns):\n",
      " #   Column                    Non-Null Count  Dtype  \n",
      "---  ------                    --------------  -----  \n",
      " 0   free                      47 non-null     float64\n",
      " 1   red_price                 47 non-null     object \n",
      " 2   paid                      47 non-null     float64\n",
      " 3   total_lunch               47 non-null     float64\n",
      " 4   meals_served              47 non-null     float64\n",
      " 5   free_rp_percent_of_total  47 non-null     float64\n",
      "dtypes: float64(5), object(1)\n",
      "memory usage: 2.6+ KB\n"
     ]
    }
   ],
   "source": [
    "lunch.info()"
   ]
  },
  {
   "cell_type": "markdown",
   "id": "3d4cb205",
   "metadata": {},
   "source": [
    "Only one column here that we need to replace bad values and convert, the `red_price` column."
   ]
  },
  {
   "cell_type": "code",
   "execution_count": 13,
   "id": "2d2d4035",
   "metadata": {},
   "outputs": [
    {
     "data": {
      "text/html": [
       "<div>\n",
       "<style scoped>\n",
       "    .dataframe tbody tr th:only-of-type {\n",
       "        vertical-align: middle;\n",
       "    }\n",
       "\n",
       "    .dataframe tbody tr th {\n",
       "        vertical-align: top;\n",
       "    }\n",
       "\n",
       "    .dataframe thead th {\n",
       "        text-align: right;\n",
       "    }\n",
       "</style>\n",
       "<table border=\"1\" class=\"dataframe\">\n",
       "  <thead>\n",
       "    <tr style=\"text-align: right;\">\n",
       "      <th></th>\n",
       "      <th>free</th>\n",
       "      <th>red_price</th>\n",
       "      <th>paid</th>\n",
       "      <th>total_lunch</th>\n",
       "      <th>meals_served</th>\n",
       "      <th>free_rp_percent_of_total</th>\n",
       "    </tr>\n",
       "    <tr>\n",
       "      <th>year</th>\n",
       "      <th></th>\n",
       "      <th></th>\n",
       "      <th></th>\n",
       "      <th></th>\n",
       "      <th></th>\n",
       "      <th></th>\n",
       "    </tr>\n",
       "  </thead>\n",
       "  <tbody>\n",
       "    <tr>\n",
       "      <th>1969</th>\n",
       "      <td>2.9</td>\n",
       "      <td>0.0</td>\n",
       "      <td>16.5</td>\n",
       "      <td>19.4</td>\n",
       "      <td>3368.2</td>\n",
       "      <td>15.1</td>\n",
       "    </tr>\n",
       "    <tr>\n",
       "      <th>1970</th>\n",
       "      <td>4.6</td>\n",
       "      <td>0.0</td>\n",
       "      <td>17.8</td>\n",
       "      <td>22.4</td>\n",
       "      <td>3565.1</td>\n",
       "      <td>20.7</td>\n",
       "    </tr>\n",
       "    <tr>\n",
       "      <th>1971</th>\n",
       "      <td>5.8</td>\n",
       "      <td>0.5</td>\n",
       "      <td>17.8</td>\n",
       "      <td>24.1</td>\n",
       "      <td>3848.3</td>\n",
       "      <td>26.1</td>\n",
       "    </tr>\n",
       "    <tr>\n",
       "      <th>1972</th>\n",
       "      <td>7.3</td>\n",
       "      <td>0.5</td>\n",
       "      <td>16.6</td>\n",
       "      <td>24.4</td>\n",
       "      <td>3972.1</td>\n",
       "      <td>32.4</td>\n",
       "    </tr>\n",
       "    <tr>\n",
       "      <th>1973</th>\n",
       "      <td>8.1</td>\n",
       "      <td>0.5</td>\n",
       "      <td>16.1</td>\n",
       "      <td>24.7</td>\n",
       "      <td>4008.8</td>\n",
       "      <td>35.0</td>\n",
       "    </tr>\n",
       "  </tbody>\n",
       "</table>\n",
       "</div>"
      ],
      "text/plain": [
       "      free  red_price  paid  total_lunch  meals_served  \\\n",
       "year                                                     \n",
       "1969   2.9        0.0  16.5         19.4        3368.2   \n",
       "1970   4.6        0.0  17.8         22.4        3565.1   \n",
       "1971   5.8        0.5  17.8         24.1        3848.3   \n",
       "1972   7.3        0.5  16.6         24.4        3972.1   \n",
       "1973   8.1        0.5  16.1         24.7        4008.8   \n",
       "\n",
       "      free_rp_percent_of_total  \n",
       "year                            \n",
       "1969                      15.1  \n",
       "1970                      20.7  \n",
       "1971                      26.1  \n",
       "1972                      32.4  \n",
       "1973                      35.0  "
      ]
     },
     "execution_count": 13,
     "metadata": {},
     "output_type": "execute_result"
    }
   ],
   "source": [
    "lunch['red_price'].replace([r\"]\"], 0, regex=True, inplace=True)\n",
    "lunch.head()"
   ]
  },
  {
   "cell_type": "code",
   "execution_count": 14,
   "id": "c14802b8",
   "metadata": {},
   "outputs": [],
   "source": [
    "lunch.red_price = lunch.red_price.astype(dtype='float64')"
   ]
  },
  {
   "cell_type": "code",
   "execution_count": 15,
   "id": "05295769",
   "metadata": {},
   "outputs": [
    {
     "name": "stdout",
     "output_type": "stream",
     "text": [
      "<class 'pandas.core.frame.DataFrame'>\n",
      "Int64Index: 47 entries, 1969 to 2015\n",
      "Data columns (total 6 columns):\n",
      " #   Column                    Non-Null Count  Dtype  \n",
      "---  ------                    --------------  -----  \n",
      " 0   free                      47 non-null     float64\n",
      " 1   red_price                 47 non-null     float64\n",
      " 2   paid                      47 non-null     float64\n",
      " 3   total_lunch               47 non-null     float64\n",
      " 4   meals_served              47 non-null     float64\n",
      " 5   free_rp_percent_of_total  47 non-null     float64\n",
      "dtypes: float64(6)\n",
      "memory usage: 2.6 KB\n"
     ]
    }
   ],
   "source": [
    "lunch.info()"
   ]
  },
  {
   "cell_type": "code",
   "execution_count": 16,
   "id": "44704be4",
   "metadata": {},
   "outputs": [
    {
     "data": {
      "text/html": [
       "<div>\n",
       "<style scoped>\n",
       "    .dataframe tbody tr th:only-of-type {\n",
       "        vertical-align: middle;\n",
       "    }\n",
       "\n",
       "    .dataframe tbody tr th {\n",
       "        vertical-align: top;\n",
       "    }\n",
       "\n",
       "    .dataframe thead th {\n",
       "        text-align: right;\n",
       "    }\n",
       "</style>\n",
       "<table border=\"1\" class=\"dataframe\">\n",
       "  <thead>\n",
       "    <tr style=\"text-align: right;\">\n",
       "      <th></th>\n",
       "      <th>free</th>\n",
       "      <th>red_price</th>\n",
       "      <th>paid</th>\n",
       "      <th>total_lunch</th>\n",
       "      <th>meals_served</th>\n",
       "      <th>free_rp_percent_of_total</th>\n",
       "    </tr>\n",
       "  </thead>\n",
       "  <tbody>\n",
       "    <tr>\n",
       "      <th>count</th>\n",
       "      <td>47.000000</td>\n",
       "      <td>47.000000</td>\n",
       "      <td>47.000000</td>\n",
       "      <td>47.000000</td>\n",
       "      <td>47.000000</td>\n",
       "      <td>47.000000</td>\n",
       "    </tr>\n",
       "    <tr>\n",
       "      <th>mean</th>\n",
       "      <td>11.976596</td>\n",
       "      <td>1.865957</td>\n",
       "      <td>12.665957</td>\n",
       "      <td>26.504255</td>\n",
       "      <td>4380.995957</td>\n",
       "      <td>51.574468</td>\n",
       "    </tr>\n",
       "    <tr>\n",
       "      <th>std</th>\n",
       "      <td>3.720929</td>\n",
       "      <td>0.842428</td>\n",
       "      <td>2.132897</td>\n",
       "      <td>2.971382</td>\n",
       "      <td>505.977818</td>\n",
       "      <td>12.271378</td>\n",
       "    </tr>\n",
       "    <tr>\n",
       "      <th>min</th>\n",
       "      <td>2.900000</td>\n",
       "      <td>0.000000</td>\n",
       "      <td>8.500000</td>\n",
       "      <td>19.400000</td>\n",
       "      <td>3368.200000</td>\n",
       "      <td>15.100000</td>\n",
       "    </tr>\n",
       "    <tr>\n",
       "      <th>25%</th>\n",
       "      <td>9.950000</td>\n",
       "      <td>1.550000</td>\n",
       "      <td>11.400000</td>\n",
       "      <td>24.200000</td>\n",
       "      <td>4006.870000</td>\n",
       "      <td>46.150000</td>\n",
       "    </tr>\n",
       "    <tr>\n",
       "      <th>50%</th>\n",
       "      <td>11.200000</td>\n",
       "      <td>1.800000</td>\n",
       "      <td>12.100000</td>\n",
       "      <td>25.900000</td>\n",
       "      <td>4253.310000</td>\n",
       "      <td>53.100000</td>\n",
       "    </tr>\n",
       "    <tr>\n",
       "      <th>75%</th>\n",
       "      <td>13.900000</td>\n",
       "      <td>2.600000</td>\n",
       "      <td>13.900000</td>\n",
       "      <td>28.700000</td>\n",
       "      <td>4802.645000</td>\n",
       "      <td>58.800000</td>\n",
       "    </tr>\n",
       "    <tr>\n",
       "      <th>max</th>\n",
       "      <td>19.800000</td>\n",
       "      <td>3.200000</td>\n",
       "      <td>17.800000</td>\n",
       "      <td>31.800000</td>\n",
       "      <td>5278.400000</td>\n",
       "      <td>72.600000</td>\n",
       "    </tr>\n",
       "  </tbody>\n",
       "</table>\n",
       "</div>"
      ],
      "text/plain": [
       "            free  red_price       paid  total_lunch  meals_served  \\\n",
       "count  47.000000  47.000000  47.000000    47.000000     47.000000   \n",
       "mean   11.976596   1.865957  12.665957    26.504255   4380.995957   \n",
       "std     3.720929   0.842428   2.132897     2.971382    505.977818   \n",
       "min     2.900000   0.000000   8.500000    19.400000   3368.200000   \n",
       "25%     9.950000   1.550000  11.400000    24.200000   4006.870000   \n",
       "50%    11.200000   1.800000  12.100000    25.900000   4253.310000   \n",
       "75%    13.900000   2.600000  13.900000    28.700000   4802.645000   \n",
       "max    19.800000   3.200000  17.800000    31.800000   5278.400000   \n",
       "\n",
       "       free_rp_percent_of_total  \n",
       "count                 47.000000  \n",
       "mean                  51.574468  \n",
       "std                   12.271378  \n",
       "min                   15.100000  \n",
       "25%                   46.150000  \n",
       "50%                   53.100000  \n",
       "75%                   58.800000  \n",
       "max                   72.600000  "
      ]
     },
     "execution_count": 16,
     "metadata": {},
     "output_type": "execute_result"
    }
   ],
   "source": [
    "lunch.describe()"
   ]
  },
  {
   "cell_type": "code",
   "execution_count": 17,
   "id": "0d2dffd8",
   "metadata": {
    "scrolled": false
   },
   "outputs": [
    {
     "data": {
      "image/png": "[encoded data removed]",
      "text/plain": [
       "<Figure size 1152x720 with 6 Axes>"
      ]
     },
     "metadata": {
      "needs_background": "light"
     },
     "output_type": "display_data"
    }
   ],
   "source": [
    "ax = lunch.drop(['free_rp_percent_of_total'], axis=1).plot(subplots=True, layout=(3, 2), figsize=(16, 10))"
   ]
  },
  {
   "cell_type": "markdown",
   "id": "c7a025e4",
   "metadata": {},
   "source": [
    "By following the same pattern we did above, we plot the free, reduced price and paid lunches together, and the data is significantly different. It appears that at a point in the early 1990s, the number of free lunch recipients began to outpace those paying for lunch, but prior to that, it was more common to pay for lunch."
   ]
  },
  {
   "cell_type": "code",
   "execution_count": 35,
   "id": "4065f63e",
   "metadata": {},
   "outputs": [
    {
     "data": {
      "image/png": "[encoded data removed]",
      "text/plain": [
       "<Figure size 864x576 with 1 Axes>"
      ]
     },
     "metadata": {
      "needs_background": "light"
     },
     "output_type": "display_data"
    }
   ],
   "source": [
    "ax = lunch.iloc[:, [0, 1, 2]].plot(figsize = (12, 8))"
   ]
  },
  {
   "cell_type": "code",
   "execution_count": 18,
   "id": "c28cf2fd",
   "metadata": {},
   "outputs": [
    {
     "data": {
      "image/png": "[encoded data removed]",
      "text/plain": [
       "<Figure size 864x576 with 6 Axes>"
      ]
     },
     "metadata": {
      "needs_background": "light"
     },
     "output_type": "display_data"
    }
   ],
   "source": [
    "ax = lunch.plot.box(subplots=True, layout =(2, 3), figsize=(12, 8))"
   ]
  },
  {
   "cell_type": "markdown",
   "id": "c7c21ff7",
   "metadata": {},
   "source": [
    "A handful of outliers worth investigating here, though once again, they will likely remain in the dataset."
   ]
  },
  {
   "cell_type": "code",
   "execution_count": 19,
   "id": "4f2bf82c",
   "metadata": {},
   "outputs": [],
   "source": [
    "from scipy.stats import zscore"
   ]
  },
  {
   "cell_type": "code",
   "execution_count": 20,
   "id": "fbdd9c8d",
   "metadata": {},
   "outputs": [],
   "source": [
    "def get_z_score(column_name, df):\n",
    "    df['z_score'] = zscore(df[column_name])\n",
    "    outliers = df.query('z_score > 2 | z_score < -2')\n",
    "    return outliers"
   ]
  },
  {
   "cell_type": "code",
   "execution_count": 21,
   "id": "1852bfff",
   "metadata": {},
   "outputs": [
    {
     "data": {
      "text/html": [
       "<div>\n",
       "<style scoped>\n",
       "    .dataframe tbody tr th:only-of-type {\n",
       "        vertical-align: middle;\n",
       "    }\n",
       "\n",
       "    .dataframe tbody tr th {\n",
       "        vertical-align: top;\n",
       "    }\n",
       "\n",
       "    .dataframe thead th {\n",
       "        text-align: right;\n",
       "    }\n",
       "</style>\n",
       "<table border=\"1\" class=\"dataframe\">\n",
       "  <thead>\n",
       "    <tr style=\"text-align: right;\">\n",
       "      <th></th>\n",
       "      <th>free</th>\n",
       "      <th>red_price</th>\n",
       "      <th>paid</th>\n",
       "      <th>total_lunch</th>\n",
       "      <th>meals_served</th>\n",
       "      <th>free_rp_percent_of_total</th>\n",
       "      <th>z_score</th>\n",
       "    </tr>\n",
       "    <tr>\n",
       "      <th>year</th>\n",
       "      <th></th>\n",
       "      <th></th>\n",
       "      <th></th>\n",
       "      <th></th>\n",
       "      <th></th>\n",
       "      <th></th>\n",
       "      <th></th>\n",
       "    </tr>\n",
       "  </thead>\n",
       "  <tbody>\n",
       "    <tr>\n",
       "      <th>1969</th>\n",
       "      <td>2.9</td>\n",
       "      <td>0.0</td>\n",
       "      <td>16.5</td>\n",
       "      <td>19.4</td>\n",
       "      <td>3368.20</td>\n",
       "      <td>15.1</td>\n",
       "      <td>-2.465708</td>\n",
       "    </tr>\n",
       "    <tr>\n",
       "      <th>1970</th>\n",
       "      <td>4.6</td>\n",
       "      <td>0.0</td>\n",
       "      <td>17.8</td>\n",
       "      <td>22.4</td>\n",
       "      <td>3565.10</td>\n",
       "      <td>20.7</td>\n",
       "      <td>-2.003894</td>\n",
       "    </tr>\n",
       "    <tr>\n",
       "      <th>2015</th>\n",
       "      <td>19.8</td>\n",
       "      <td>2.2</td>\n",
       "      <td>8.5</td>\n",
       "      <td>30.5</td>\n",
       "      <td>5005.89</td>\n",
       "      <td>72.6</td>\n",
       "      <td>2.125272</td>\n",
       "    </tr>\n",
       "  </tbody>\n",
       "</table>\n",
       "</div>"
      ],
      "text/plain": [
       "      free  red_price  paid  total_lunch  meals_served  \\\n",
       "year                                                     \n",
       "1969   2.9        0.0  16.5         19.4       3368.20   \n",
       "1970   4.6        0.0  17.8         22.4       3565.10   \n",
       "2015  19.8        2.2   8.5         30.5       5005.89   \n",
       "\n",
       "      free_rp_percent_of_total   z_score  \n",
       "year                                      \n",
       "1969                      15.1 -2.465708  \n",
       "1970                      20.7 -2.003894  \n",
       "2015                      72.6  2.125272  "
      ]
     },
     "execution_count": 21,
     "metadata": {},
     "output_type": "execute_result"
    }
   ],
   "source": [
    "outliers = get_z_score('free', lunch)\n",
    "outliers"
   ]
  },
  {
   "cell_type": "code",
   "execution_count": 22,
   "id": "7c829d3e",
   "metadata": {},
   "outputs": [
    {
     "data": {
      "text/html": [
       "<div>\n",
       "<style scoped>\n",
       "    .dataframe tbody tr th:only-of-type {\n",
       "        vertical-align: middle;\n",
       "    }\n",
       "\n",
       "    .dataframe tbody tr th {\n",
       "        vertical-align: top;\n",
       "    }\n",
       "\n",
       "    .dataframe thead th {\n",
       "        text-align: right;\n",
       "    }\n",
       "</style>\n",
       "<table border=\"1\" class=\"dataframe\">\n",
       "  <thead>\n",
       "    <tr style=\"text-align: right;\">\n",
       "      <th></th>\n",
       "      <th>free</th>\n",
       "      <th>red_price</th>\n",
       "      <th>paid</th>\n",
       "      <th>total_lunch</th>\n",
       "      <th>meals_served</th>\n",
       "      <th>free_rp_percent_of_total</th>\n",
       "      <th>z_score</th>\n",
       "    </tr>\n",
       "    <tr>\n",
       "      <th>year</th>\n",
       "      <th></th>\n",
       "      <th></th>\n",
       "      <th></th>\n",
       "      <th></th>\n",
       "      <th></th>\n",
       "      <th></th>\n",
       "      <th></th>\n",
       "    </tr>\n",
       "  </thead>\n",
       "  <tbody>\n",
       "    <tr>\n",
       "      <th>1970</th>\n",
       "      <td>4.6</td>\n",
       "      <td>0.0</td>\n",
       "      <td>17.8</td>\n",
       "      <td>22.4</td>\n",
       "      <td>3565.1</td>\n",
       "      <td>20.7</td>\n",
       "      <td>2.433098</td>\n",
       "    </tr>\n",
       "    <tr>\n",
       "      <th>1971</th>\n",
       "      <td>5.8</td>\n",
       "      <td>0.5</td>\n",
       "      <td>17.8</td>\n",
       "      <td>24.1</td>\n",
       "      <td>3848.3</td>\n",
       "      <td>26.1</td>\n",
       "      <td>2.433098</td>\n",
       "    </tr>\n",
       "  </tbody>\n",
       "</table>\n",
       "</div>"
      ],
      "text/plain": [
       "      free  red_price  paid  total_lunch  meals_served  \\\n",
       "year                                                     \n",
       "1970   4.6        0.0  17.8         22.4        3565.1   \n",
       "1971   5.8        0.5  17.8         24.1        3848.3   \n",
       "\n",
       "      free_rp_percent_of_total   z_score  \n",
       "year                                      \n",
       "1970                      20.7  2.433098  \n",
       "1971                      26.1  2.433098  "
      ]
     },
     "execution_count": 22,
     "metadata": {},
     "output_type": "execute_result"
    }
   ],
   "source": [
    "outliers = get_z_score('paid', lunch)\n",
    "outliers"
   ]
  },
  {
   "cell_type": "code",
   "execution_count": 23,
   "id": "32c70e31",
   "metadata": {},
   "outputs": [
    {
     "data": {
      "text/html": [
       "<div>\n",
       "<style scoped>\n",
       "    .dataframe tbody tr th:only-of-type {\n",
       "        vertical-align: middle;\n",
       "    }\n",
       "\n",
       "    .dataframe tbody tr th {\n",
       "        vertical-align: top;\n",
       "    }\n",
       "\n",
       "    .dataframe thead th {\n",
       "        text-align: right;\n",
       "    }\n",
       "</style>\n",
       "<table border=\"1\" class=\"dataframe\">\n",
       "  <thead>\n",
       "    <tr style=\"text-align: right;\">\n",
       "      <th></th>\n",
       "      <th>free</th>\n",
       "      <th>red_price</th>\n",
       "      <th>paid</th>\n",
       "      <th>total_lunch</th>\n",
       "      <th>meals_served</th>\n",
       "      <th>free_rp_percent_of_total</th>\n",
       "      <th>z_score</th>\n",
       "    </tr>\n",
       "    <tr>\n",
       "      <th>year</th>\n",
       "      <th></th>\n",
       "      <th></th>\n",
       "      <th></th>\n",
       "      <th></th>\n",
       "      <th></th>\n",
       "      <th></th>\n",
       "      <th></th>\n",
       "    </tr>\n",
       "  </thead>\n",
       "  <tbody>\n",
       "    <tr>\n",
       "      <th>1969</th>\n",
       "      <td>2.9</td>\n",
       "      <td>0.0</td>\n",
       "      <td>16.5</td>\n",
       "      <td>19.4</td>\n",
       "      <td>3368.2</td>\n",
       "      <td>15.1</td>\n",
       "      <td>-3.004455</td>\n",
       "    </tr>\n",
       "    <tr>\n",
       "      <th>1970</th>\n",
       "      <td>4.6</td>\n",
       "      <td>0.0</td>\n",
       "      <td>17.8</td>\n",
       "      <td>22.4</td>\n",
       "      <td>3565.1</td>\n",
       "      <td>20.7</td>\n",
       "      <td>-2.543174</td>\n",
       "    </tr>\n",
       "    <tr>\n",
       "      <th>1971</th>\n",
       "      <td>5.8</td>\n",
       "      <td>0.5</td>\n",
       "      <td>17.8</td>\n",
       "      <td>24.1</td>\n",
       "      <td>3848.3</td>\n",
       "      <td>26.1</td>\n",
       "      <td>-2.098369</td>\n",
       "    </tr>\n",
       "  </tbody>\n",
       "</table>\n",
       "</div>"
      ],
      "text/plain": [
       "      free  red_price  paid  total_lunch  meals_served  \\\n",
       "year                                                     \n",
       "1969   2.9        0.0  16.5         19.4        3368.2   \n",
       "1970   4.6        0.0  17.8         22.4        3565.1   \n",
       "1971   5.8        0.5  17.8         24.1        3848.3   \n",
       "\n",
       "      free_rp_percent_of_total   z_score  \n",
       "year                                      \n",
       "1969                      15.1 -3.004455  \n",
       "1970                      20.7 -2.543174  \n",
       "1971                      26.1 -2.098369  "
      ]
     },
     "execution_count": 23,
     "metadata": {},
     "output_type": "execute_result"
    }
   ],
   "source": [
    "outliers = get_z_score('free_rp_percent_of_total', lunch)\n",
    "outliers"
   ]
  },
  {
   "cell_type": "code",
   "execution_count": 24,
   "id": "435fd17f",
   "metadata": {},
   "outputs": [],
   "source": [
    "lunch.drop('z_score', axis=1, inplace=True)"
   ]
  },
  {
   "cell_type": "code",
   "execution_count": 25,
   "id": "85fd26a3",
   "metadata": {},
   "outputs": [],
   "source": [
    "lunch.to_csv('datasets/lunch_processed.csv')"
   ]
  }
 ],
 "metadata": {
  "kernelspec": {
   "display_name": "Python 3 (ipykernel)",
   "language": "python",
   "name": "python3"
  },
  "language_info": {
   "codemirror_mode": {
    "name": "ipython",
    "version": 3
   },
   "file_extension": ".py",
   "mimetype": "text/x-python",
   "name": "python",
   "nbconvert_exporter": "python",
   "pygments_lexer": "ipython3",
   "version": "3.7.13"
  }
 },
 "nbformat": 4,
 "nbformat_minor": 5
}
